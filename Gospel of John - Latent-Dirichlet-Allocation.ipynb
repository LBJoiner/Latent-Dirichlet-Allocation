{
 "cells": [
  {
   "cell_type": "markdown",
   "metadata": {},
   "source": [
    "___\n",
    "\n",
    "<a href='http://www.pieriandata.com'> <img src='../Pierian_Data_Logo.png' /></a>\n",
    "___"
   ]
  },
  {
   "cell_type": "markdown",
   "metadata": {},
   "source": [
    "# Latent Dirichlet Allocation"
   ]
  },
  {
   "cell_type": "markdown",
   "metadata": {},
   "source": [
    "## Data\n",
    "\n",
    "We will be using articles from NPR (National Public Radio), obtained from their website [www.npr.org](http://www.npr.org)"
   ]
  },
  {
   "cell_type": "code",
   "execution_count": 1,
   "metadata": {},
   "outputs": [],
   "source": [
    "import pandas as pd"
   ]
  },
  {
   "cell_type": "code",
   "execution_count": 2,
   "metadata": {},
   "outputs": [],
   "source": [
    "npr = pd.read_csv('Gospel of John - ESV.csv')"
   ]
  },
  {
   "cell_type": "code",
   "execution_count": 3,
   "metadata": {},
   "outputs": [
    {
     "data": {
      "text/html": [
       "<div>\n",
       "<style scoped>\n",
       "    .dataframe tbody tr th:only-of-type {\n",
       "        vertical-align: middle;\n",
       "    }\n",
       "\n",
       "    .dataframe tbody tr th {\n",
       "        vertical-align: top;\n",
       "    }\n",
       "\n",
       "    .dataframe thead th {\n",
       "        text-align: right;\n",
       "    }\n",
       "</style>\n",
       "<table border=\"1\" class=\"dataframe\">\n",
       "  <thead>\n",
       "    <tr style=\"text-align: right;\">\n",
       "      <th></th>\n",
       "      <th>Book</th>\n",
       "      <th>Chapter</th>\n",
       "      <th>Verse</th>\n",
       "      <th>Content</th>\n",
       "    </tr>\n",
       "  </thead>\n",
       "  <tbody>\n",
       "    <tr>\n",
       "      <th>0</th>\n",
       "      <td>John</td>\n",
       "      <td>1</td>\n",
       "      <td>1</td>\n",
       "      <td>In the beginning was the Word, and the Word wa...</td>\n",
       "    </tr>\n",
       "    <tr>\n",
       "      <th>1</th>\n",
       "      <td>John</td>\n",
       "      <td>1</td>\n",
       "      <td>2</td>\n",
       "      <td>He was in the beginning with God.</td>\n",
       "    </tr>\n",
       "    <tr>\n",
       "      <th>2</th>\n",
       "      <td>John</td>\n",
       "      <td>1</td>\n",
       "      <td>3</td>\n",
       "      <td>All things were made through him, and without ...</td>\n",
       "    </tr>\n",
       "    <tr>\n",
       "      <th>3</th>\n",
       "      <td>John</td>\n",
       "      <td>1</td>\n",
       "      <td>4</td>\n",
       "      <td>In him was life, and the life was the light of...</td>\n",
       "    </tr>\n",
       "    <tr>\n",
       "      <th>4</th>\n",
       "      <td>John</td>\n",
       "      <td>1</td>\n",
       "      <td>5</td>\n",
       "      <td>The light shines in the darkness, and the dark...</td>\n",
       "    </tr>\n",
       "  </tbody>\n",
       "</table>\n",
       "</div>"
      ],
      "text/plain": [
       "   Book  Chapter  Verse                                            Content\n",
       "0  John        1      1  In the beginning was the Word, and the Word wa...\n",
       "1  John        1      2                  He was in the beginning with God.\n",
       "2  John        1      3  All things were made through him, and without ...\n",
       "3  John        1      4  In him was life, and the life was the light of...\n",
       "4  John        1      5  The light shines in the darkness, and the dark..."
      ]
     },
     "execution_count": 3,
     "metadata": {},
     "output_type": "execute_result"
    }
   ],
   "source": [
    "npr.head()"
   ]
  },
  {
   "cell_type": "markdown",
   "metadata": {},
   "source": [
    "Notice how we don't have the topic of the articles! Let's use LDA to attempt to figure out clusters of the articles."
   ]
  },
  {
   "cell_type": "markdown",
   "metadata": {},
   "source": [
    "## Preprocessing"
   ]
  },
  {
   "cell_type": "code",
   "execution_count": 4,
   "metadata": {},
   "outputs": [],
   "source": [
    "from sklearn.feature_extraction.text import CountVectorizer"
   ]
  },
  {
   "cell_type": "markdown",
   "metadata": {},
   "source": [
    "**`max_df`**` : float in range [0.0, 1.0] or int, default=1.0`<br>\n",
    "When building the vocabulary ignore terms that have a document frequency strictly higher than the given threshold (corpus-specific stop words). If float, the parameter represents a proportion of documents, integer absolute counts. This parameter is ignored if vocabulary is not None.\n",
    "\n",
    "**`min_df`**` : float in range [0.0, 1.0] or int, default=1`<br>\n",
    "When building the vocabulary ignore terms that have a document frequency strictly lower than the given threshold. This value is also called cut-off in the literature. If float, the parameter represents a proportion of documents, integer absolute counts. This parameter is ignored if vocabulary is not None."
   ]
  },
  {
   "cell_type": "code",
   "execution_count": 5,
   "metadata": {},
   "outputs": [],
   "source": [
    "cv = CountVectorizer(max_df=0.95, min_df=2, stop_words='english')"
   ]
  },
  {
   "cell_type": "code",
   "execution_count": 6,
   "metadata": {},
   "outputs": [],
   "source": [
    "dtm = cv.fit_transform(npr['Content'])"
   ]
  },
  {
   "cell_type": "code",
   "execution_count": 7,
   "metadata": {},
   "outputs": [
    {
     "data": {
      "text/plain": [
       "<879x610 sparse matrix of type '<class 'numpy.int64'>'\n",
       "\twith 5264 stored elements in Compressed Sparse Row format>"
      ]
     },
     "execution_count": 7,
     "metadata": {},
     "output_type": "execute_result"
    }
   ],
   "source": [
    "dtm"
   ]
  },
  {
   "cell_type": "markdown",
   "metadata": {},
   "source": [
    "## LDA"
   ]
  },
  {
   "cell_type": "code",
   "execution_count": 8,
   "metadata": {},
   "outputs": [],
   "source": [
    "from sklearn.decomposition import LatentDirichletAllocation"
   ]
  },
  {
   "cell_type": "code",
   "execution_count": 9,
   "metadata": {},
   "outputs": [],
   "source": [
    "LDA = LatentDirichletAllocation(n_components=7,random_state=42)"
   ]
  },
  {
   "cell_type": "code",
   "execution_count": 10,
   "metadata": {},
   "outputs": [
    {
     "data": {
      "text/plain": [
       "LatentDirichletAllocation(n_components=7, random_state=42)"
      ]
     },
     "execution_count": 10,
     "metadata": {},
     "output_type": "execute_result"
    }
   ],
   "source": [
    "# This can take awhile, we're dealing with a large amount of documents!\n",
    "LDA.fit(dtm)"
   ]
  },
  {
   "cell_type": "markdown",
   "metadata": {},
   "source": [
    "## Showing Stored Words"
   ]
  },
  {
   "cell_type": "code",
   "execution_count": 11,
   "metadata": {},
   "outputs": [
    {
     "data": {
      "text/plain": [
       "610"
      ]
     },
     "execution_count": 11,
     "metadata": {},
     "output_type": "execute_result"
    }
   ],
   "source": [
    "len(cv.get_feature_names())"
   ]
  },
  {
   "cell_type": "code",
   "execution_count": 12,
   "metadata": {},
   "outputs": [],
   "source": [
    "import random"
   ]
  },
  {
   "cell_type": "code",
   "execution_count": 13,
   "metadata": {},
   "outputs": [
    {
     "name": "stdout",
     "output_type": "stream",
     "text": [
      "accord\n",
      "abide\n",
      "account\n",
      "abroad\n",
      "accomplish\n",
      "abide\n",
      "able\n",
      "abroad\n",
      "abide\n"
     ]
    }
   ],
   "source": [
    "#Dempnstation of random selection of words\n",
    "for i in range(9):\n",
    "    random_word_id = random.randint(0,8)\n",
    "    print(cv.get_feature_names()[random_word_id])"
   ]
  },
  {
   "cell_type": "markdown",
   "metadata": {
    "collapsed": true
   },
   "source": [
    "### Showing Top Words Per Topic"
   ]
  },
  {
   "cell_type": "code",
   "execution_count": 14,
   "metadata": {},
   "outputs": [
    {
     "data": {
      "text/plain": [
       "7"
      ]
     },
     "execution_count": 14,
     "metadata": {},
     "output_type": "execute_result"
    }
   ],
   "source": [
    "len(LDA.components_)"
   ]
  },
  {
   "cell_type": "code",
   "execution_count": 15,
   "metadata": {},
   "outputs": [
    {
     "data": {
      "text/plain": [
       "array([[0.14329893, 0.14285742, 0.14285756, ..., 0.1428575 , 0.14304246,\n",
       "        0.14327404],\n",
       "       [9.1446448 , 3.14173016, 0.14525927, ..., 0.14285749, 0.14285726,\n",
       "        0.1428574 ],\n",
       "       [0.14285733, 0.14285739, 1.14127115, ..., 1.78419273, 2.14282039,\n",
       "        1.14252504],\n",
       "       ...,\n",
       "       [0.14290482, 0.14285742, 0.14285755, ..., 0.1428575 , 0.14285727,\n",
       "        0.14285741],\n",
       "       [0.14285729, 0.14285735, 0.14285745, ..., 0.1431841 , 0.14285724,\n",
       "        1.14277136],\n",
       "       [1.14057951, 0.14285738, 1.14203954, ..., 0.14285745, 1.14270815,\n",
       "        0.14285737]])"
      ]
     },
     "execution_count": 15,
     "metadata": {},
     "output_type": "execute_result"
    }
   ],
   "source": [
    "LDA.components_"
   ]
  },
  {
   "cell_type": "code",
   "execution_count": 16,
   "metadata": {},
   "outputs": [
    {
     "data": {
      "text/plain": [
       "7"
      ]
     },
     "execution_count": 16,
     "metadata": {},
     "output_type": "execute_result"
    }
   ],
   "source": [
    "len(LDA.components_)\n"
   ]
  },
  {
   "cell_type": "code",
   "execution_count": 17,
   "metadata": {},
   "outputs": [
    {
     "data": {
      "text/plain": [
       "numpy.ndarray"
      ]
     },
     "execution_count": 17,
     "metadata": {},
     "output_type": "execute_result"
    }
   ],
   "source": [
    "type(LDA.components_)"
   ]
  },
  {
   "cell_type": "code",
   "execution_count": 18,
   "metadata": {},
   "outputs": [
    {
     "data": {
      "text/plain": [
       "(7, 610)"
      ]
     },
     "execution_count": 18,
     "metadata": {},
     "output_type": "execute_result"
    }
   ],
   "source": [
    "#7 topics x 610 words\n",
    "LDA.components_.shape"
   ]
  },
  {
   "cell_type": "code",
   "execution_count": 19,
   "metadata": {},
   "outputs": [],
   "source": [
    "single_topic = LDA.components_[0]"
   ]
  },
  {
   "cell_type": "code",
   "execution_count": 20,
   "metadata": {},
   "outputs": [
    {
     "data": {
      "text/plain": [
       "array([463, 205, 483,  79,  65, 302, 480, 223,  96, 150, 316, 377, 356,\n",
       "        98,  33, 583, 244, 564, 118, 408, 548, 438, 290, 606, 125, 455,\n",
       "       462, 348,  90, 379, 289, 385, 180, 558, 113, 262,  16, 248, 231,\n",
       "        58,  23, 423, 592, 228, 102, 569, 115, 337, 255, 550, 293, 309,\n",
       "       520,   7, 107, 335, 343,  20, 328, 253,  76, 221,  86, 407, 426,\n",
       "       162, 366,  48,  50, 401, 219, 114, 412, 321,  74, 350, 127,  77,\n",
       "       233, 334, 120, 415, 446,  69, 579, 563,  28, 171, 447, 363, 364,\n",
       "       506, 134,  59, 417, 256, 330,  91, 299, 182, 165, 327,  13, 296,\n",
       "       499, 345, 138, 513, 179, 161, 360, 383, 349, 170, 101, 441, 512,\n",
       "        21, 589, 490, 159, 587, 516, 389, 194,  71,   5, 157, 539, 261,\n",
       "       458, 116, 545, 376, 436, 177,   4, 522, 121, 585, 168, 557,  84,\n",
       "       192,  34, 394, 410,  78,  95, 400, 496, 254,   9,  82,  66, 202,\n",
       "        54, 523, 156, 123, 370, 404, 524, 519, 382, 492, 218, 291,  94,\n",
       "       152, 418, 529, 541, 368, 593, 265, 445, 320, 531,  38,  40, 388,\n",
       "        64, 154, 184, 466, 568, 488, 355, 131, 341, 227, 189,   1, 332,\n",
       "       378,  80, 440,  11, 329,  60, 273, 249, 347, 225,  85, 511, 234,\n",
       "       136, 106, 167,  88, 124, 479, 573, 190, 374, 536,  99, 203, 359,\n",
       "       301,  92, 317,   8, 607, 432, 501, 260, 201, 497, 481, 521, 119,\n",
       "        52, 217, 110,  10, 448, 546,  22, 532, 206, 515, 489, 572,  36,\n",
       "       495, 357, 132, 535, 493,   2, 122, 361, 517, 174, 333, 181, 491,\n",
       "       200, 298,  30, 199, 459, 397, 391, 344,  55, 372,  17, 605, 434,\n",
       "       209, 435, 109,  49, 582, 263, 442, 601,  31, 354, 173, 367, 457,\n",
       "       577, 272, 142, 279, 402, 246, 384, 375, 387, 598, 338,  32, 393,\n",
       "       504, 555, 164, 188, 207, 230, 307,  97, 236, 258, 151, 487, 351,\n",
       "       169,  67, 196,  57, 267, 153, 552, 433, 547, 104, 413, 602, 257,\n",
       "       145, 232, 386, 476, 406,  39, 275, 560, 604, 526, 175, 306, 155,\n",
       "       508, 484, 461,  93, 599, 425, 403, 314, 322, 160, 274,  37, 271,\n",
       "       318, 303, 534, 464, 295, 460, 178, 166, 551, 103, 608, 358, 259,\n",
       "       108, 326, 575, 503, 281, 542, 283, 392, 565, 286, 538, 140, 130,\n",
       "       305, 420, 600, 574,  70, 146, 187, 578,  44, 371, 292, 312, 310,\n",
       "       533, 365, 398, 278, 500, 294, 241, 133, 208, 297, 540, 112, 609,\n",
       "       576, 571, 567, 158,   0, 486,  75, 215, 590, 139, 409,  12, 117,\n",
       "       422, 224, 198, 431, 437, 240, 449, 597, 473, 588, 544, 381, 380,\n",
       "       282, 369, 419, 270, 195, 323, 439, 143, 430,  24, 285, 584, 505,\n",
       "       311, 163, 304, 352, 331,  14, 396, 300,  53, 586, 566, 453,  51,\n",
       "       518,  47,  68, 237, 525, 287, 603, 556, 242, 514,  89,  72, 444,\n",
       "        87, 543, 528, 245, 465,  43, 478, 454, 427,  35, 399, 235, 502,\n",
       "       269,  15,  29, 475,  73, 549, 342, 252, 527, 137, 266, 214, 315,\n",
       "       346, 390, 428, 482, 128, 510, 211, 324, 595, 277,  27, 405, 325,\n",
       "       373, 276, 469,   3, 411, 553, 308, 450,   6, 424,  25, 135, 554,\n",
       "       176, 111, 313, 340, 149, 414, 395, 288, 416, 141, 421, 537, 474,\n",
       "       185, 247, 494, 530, 210,  61,  81, 148, 581,  83, 319, 251, 204,\n",
       "       222, 197,  18,  41, 183, 559, 280, 362, 336, 226, 220, 105, 485,\n",
       "       243, 186, 268, 467,  45, 229,  56, 471,  46, 472, 451, 570, 144,\n",
       "       100,  63, 193, 591, 212, 191, 477, 456, 216, 580,  42, 429, 594,\n",
       "       353, 468, 339, 250, 507, 126, 239, 509, 238, 129, 470, 284, 562,\n",
       "        19,  26,  62, 172, 443, 264, 596, 498, 213, 147, 561, 452],\n",
       "      dtype=int64)"
      ]
     },
     "execution_count": 20,
     "metadata": {},
     "output_type": "execute_result"
    }
   ],
   "source": [
    "# Returns the indices of this sorted array from greatest valeus to least.\n",
    "single_topic.argsort()"
   ]
  },
  {
   "cell_type": "code",
   "execution_count": 21,
   "metadata": {},
   "outputs": [
    {
     "data": {
      "text/plain": [
       "0.14287540729651876"
      ]
     },
     "execution_count": 21,
     "metadata": {},
     "output_type": "execute_result"
    }
   ],
   "source": [
    "#ARGSORT ---> returns INDEX POSITIONS SORTED FROM LEAST --> GREATEST\n",
    "#Looking ror TOP 10 CALUES (10 GREATEST VALUES)\n",
    "#meaning I want the LAST 10 VALUES of ARGSORT()\n",
    "#it is saying GRAB the last 10 values of .argsort() (highest prob words for this topic) \n",
    "# Word most representative of this topic\n",
    "single_topic[-9]"
   ]
  },
  {
   "cell_type": "code",
   "execution_count": 22,
   "metadata": {},
   "outputs": [
    {
     "data": {
      "text/plain": [
       "array([ 62, 172, 443, 264, 596, 498, 213, 147, 561, 452], dtype=int64)"
      ]
     },
     "execution_count": 22,
     "metadata": {},
     "output_type": "execute_result"
    }
   ],
   "source": [
    "# Top 10 words for this topic:\n",
    "single_topic.argsort()[-10:]"
   ]
  },
  {
   "cell_type": "code",
   "execution_count": 23,
   "metadata": {},
   "outputs": [],
   "source": [
    "top_word_indices = single_topic.argsort()[-10:]"
   ]
  },
  {
   "cell_type": "code",
   "execution_count": 24,
   "metadata": {},
   "outputs": [
    {
     "name": "stdout",
     "output_type": "stream",
     "text": [
      "born\n",
      "father\n",
      "said\n",
      "jesus\n",
      "word\n",
      "son\n",
      "god\n",
      "does\n",
      "truly\n",
      "say\n"
     ]
    }
   ],
   "source": [
    "for index in top_word_indices:\n",
    "    print(cv.get_feature_names()[index])"
   ]
  },
  {
   "cell_type": "markdown",
   "metadata": {},
   "source": [
    "These look like business articles perhaps... Let's confirm by using .transform() on our vectorized articles to attach a label number. But first, let's view all the 10 topics found."
   ]
  },
  {
   "cell_type": "code",
   "execution_count": 25,
   "metadata": {},
   "outputs": [
    {
     "name": "stdout",
     "output_type": "stream",
     "text": [
      "THE TOP 12 WORDS FOR TOPIC #0\n",
      "['sent', 'know', 'truth', 'answered', 'ask', 'born', 'father', 'said', 'jesus', 'word', 'son', 'god', 'does', 'truly', 'say']\n",
      "\n",
      "\n",
      "THE TOP 12 WORDS FOR TOPIC #1\n",
      "['abide', 'greater', 'sea', 'come', 'believe', 'going', 'said', 'works', 'bear', 'witness', 'light', 'answered', 'jesus', 'world', 'father']\n",
      "\n",
      "\n",
      "THE TOP 12 WORDS FOR TOPIC #2\n",
      "['love', 'feet', 'heard', 'came', 'lazarus', 'know', 'called', 'simon', 'jews', 'lord', 'peter', 'went', 'disciples', 'said', 'jesus']\n",
      "\n",
      "\n",
      "THE TOP 12 WORDS FOR TOPIC #3\n",
      "['judge', 'son', 'day', 'bread', 'eternal', 'given', 'pilate', 'god', 'jews', 'comes', 'man', 'father', 'came', 'said', 'life']\n",
      "\n",
      "\n",
      "THE TOP 12 WORDS FOR TOPIC #4\n",
      "['standing', 'follow', 'heard', 'told', 'man', 'answered', 'know', 'place', 'pharisees', 'eyes', 'disciples', 'things', 'believe', 'jesus', 'said']\n",
      "\n",
      "\n",
      "THE TOP 12 WORDS FOR TOPIC #5\n",
      "['going', 'spirit', 'speak', 'things', 'seen', 'sent', 'god', 'away', 'did', 'come', 'world', 'father', 'jesus', 'know', 'said']\n",
      "\n",
      "\n",
      "THE TOP 12 WORDS FOR TOPIC #6\n",
      "['seek', 'knew', 'believe', 'son', 'believed', 'did', 'god', 'jews', 'christ', 'feast', 'saying', 'come', 'man', 'jesus', 'said']\n",
      "\n",
      "\n"
     ]
    }
   ],
   "source": [
    "for index,topic in enumerate(LDA.components_):\n",
    "    print(f'THE TOP 12 WORDS FOR TOPIC #{index}')\n",
    "    print([cv.get_feature_names()[i] for i in topic.argsort()[-15:]])\n",
    "    print('\\n')"
   ]
  },
  {
   "cell_type": "markdown",
   "metadata": {},
   "source": [
    "### Attaching Discovered Topic Labels to Original Articles"
   ]
  },
  {
   "cell_type": "code",
   "execution_count": 26,
   "metadata": {},
   "outputs": [
    {
     "data": {
      "text/plain": [
       "<879x610 sparse matrix of type '<class 'numpy.int64'>'\n",
       "\twith 5264 stored elements in Compressed Sparse Row format>"
      ]
     },
     "execution_count": 26,
     "metadata": {},
     "output_type": "execute_result"
    }
   ],
   "source": [
    "dtm"
   ]
  },
  {
   "cell_type": "code",
   "execution_count": 27,
   "metadata": {},
   "outputs": [
    {
     "data": {
      "text/plain": [
       "(879, 610)"
      ]
     },
     "execution_count": 27,
     "metadata": {},
     "output_type": "execute_result"
    }
   ],
   "source": [
    "dtm.shape"
   ]
  },
  {
   "cell_type": "code",
   "execution_count": 28,
   "metadata": {},
   "outputs": [
    {
     "data": {
      "text/plain": [
       "879"
      ]
     },
     "execution_count": 28,
     "metadata": {},
     "output_type": "execute_result"
    }
   ],
   "source": [
    "len(npr)"
   ]
  },
  {
   "cell_type": "code",
   "execution_count": 29,
   "metadata": {},
   "outputs": [],
   "source": [
    "topic_results = LDA.transform(dtm)"
   ]
  },
  {
   "cell_type": "code",
   "execution_count": 30,
   "metadata": {},
   "outputs": [
    {
     "data": {
      "text/plain": [
       "(879, 7)"
      ]
     },
     "execution_count": 30,
     "metadata": {},
     "output_type": "execute_result"
    }
   ],
   "source": [
    "topic_results.shape"
   ]
  },
  {
   "cell_type": "code",
   "execution_count": 31,
   "metadata": {},
   "outputs": [
    {
     "data": {
      "text/plain": [
       "array([0.87749543, 0.02041956, 0.02040817, 0.02042463, 0.02040817,\n",
       "       0.02042142, 0.02042263])"
      ]
     },
     "execution_count": 31,
     "metadata": {},
     "output_type": "execute_result"
    }
   ],
   "source": [
    "topic_results[0]"
   ]
  },
  {
   "cell_type": "code",
   "execution_count": 32,
   "metadata": {},
   "outputs": [
    {
     "data": {
      "text/plain": [
       "array([0.88, 0.02, 0.02, 0.02, 0.02, 0.02, 0.02])"
      ]
     },
     "execution_count": 32,
     "metadata": {},
     "output_type": "execute_result"
    }
   ],
   "source": [
    "topic_results[0].round(2)"
   ]
  },
  {
   "cell_type": "code",
   "execution_count": 33,
   "metadata": {},
   "outputs": [
    {
     "data": {
      "text/plain": [
       "0"
      ]
     },
     "execution_count": 33,
     "metadata": {},
     "output_type": "execute_result"
    }
   ],
   "source": [
    "topic_results[0].argmax()"
   ]
  },
  {
   "cell_type": "markdown",
   "metadata": {},
   "source": [
    "This means that our model thinks that the first article belongs to topic #1."
   ]
  },
  {
   "cell_type": "markdown",
   "metadata": {},
   "source": [
    "### Combining with Original Data"
   ]
  },
  {
   "cell_type": "code",
   "execution_count": 34,
   "metadata": {},
   "outputs": [
    {
     "data": {
      "text/html": [
       "<div>\n",
       "<style scoped>\n",
       "    .dataframe tbody tr th:only-of-type {\n",
       "        vertical-align: middle;\n",
       "    }\n",
       "\n",
       "    .dataframe tbody tr th {\n",
       "        vertical-align: top;\n",
       "    }\n",
       "\n",
       "    .dataframe thead th {\n",
       "        text-align: right;\n",
       "    }\n",
       "</style>\n",
       "<table border=\"1\" class=\"dataframe\">\n",
       "  <thead>\n",
       "    <tr style=\"text-align: right;\">\n",
       "      <th></th>\n",
       "      <th>Book</th>\n",
       "      <th>Chapter</th>\n",
       "      <th>Verse</th>\n",
       "      <th>Content</th>\n",
       "    </tr>\n",
       "  </thead>\n",
       "  <tbody>\n",
       "    <tr>\n",
       "      <th>0</th>\n",
       "      <td>John</td>\n",
       "      <td>1</td>\n",
       "      <td>1</td>\n",
       "      <td>In the beginning was the Word, and the Word wa...</td>\n",
       "    </tr>\n",
       "    <tr>\n",
       "      <th>1</th>\n",
       "      <td>John</td>\n",
       "      <td>1</td>\n",
       "      <td>2</td>\n",
       "      <td>He was in the beginning with God.</td>\n",
       "    </tr>\n",
       "    <tr>\n",
       "      <th>2</th>\n",
       "      <td>John</td>\n",
       "      <td>1</td>\n",
       "      <td>3</td>\n",
       "      <td>All things were made through him, and without ...</td>\n",
       "    </tr>\n",
       "    <tr>\n",
       "      <th>3</th>\n",
       "      <td>John</td>\n",
       "      <td>1</td>\n",
       "      <td>4</td>\n",
       "      <td>In him was life, and the life was the light of...</td>\n",
       "    </tr>\n",
       "    <tr>\n",
       "      <th>4</th>\n",
       "      <td>John</td>\n",
       "      <td>1</td>\n",
       "      <td>5</td>\n",
       "      <td>The light shines in the darkness, and the dark...</td>\n",
       "    </tr>\n",
       "  </tbody>\n",
       "</table>\n",
       "</div>"
      ],
      "text/plain": [
       "   Book  Chapter  Verse                                            Content\n",
       "0  John        1      1  In the beginning was the Word, and the Word wa...\n",
       "1  John        1      2                  He was in the beginning with God.\n",
       "2  John        1      3  All things were made through him, and without ...\n",
       "3  John        1      4  In him was life, and the life was the light of...\n",
       "4  John        1      5  The light shines in the darkness, and the dark..."
      ]
     },
     "execution_count": 34,
     "metadata": {},
     "output_type": "execute_result"
    }
   ],
   "source": [
    "npr.head()"
   ]
  },
  {
   "cell_type": "code",
   "execution_count": 35,
   "metadata": {},
   "outputs": [
    {
     "data": {
      "text/plain": [
       "array([0, 0, 4, 3, 1, 3, 1, 1, 1, 5, 3, 5, 3, 0, 3, 0, 6, 5, 3, 6, 6, 0,\n",
       "       6, 4, 6, 3, 3, 4, 6, 3, 2, 0, 5, 0, 4, 6, 2, 5, 3, 2, 6, 2, 4, 6,\n",
       "       6, 6, 6, 4, 2, 4, 0, 3, 2, 0, 6, 0, 2, 2, 5, 0, 1, 6, 2, 2, 2, 2,\n",
       "       5, 4, 6, 2, 2, 2, 2, 6, 6, 6, 6, 5, 0, 2, 0, 0, 0, 5, 6, 1, 5, 4,\n",
       "       3, 6, 3, 3, 5, 6, 1, 1, 1, 2, 3, 3, 2, 0, 3, 1, 6, 0, 3, 1, 6, 3,\n",
       "       3, 3, 2, 5, 4, 3, 3, 5, 3, 5, 3, 6, 5, 1, 5, 3, 5, 6, 6, 6, 6, 2,\n",
       "       6, 2, 3, 5, 6, 5, 6, 3, 6, 3, 2, 4, 4, 5, 4, 0, 6, 5, 6, 3, 0, 5,\n",
       "       2, 0, 6, 3, 6, 4, 5, 6, 0, 3, 6, 6, 6, 2, 2, 3, 6, 1, 1, 6, 6, 6,\n",
       "       6, 4, 6, 6, 6, 1, 3, 0, 1, 3, 3, 0, 3, 0, 3, 3, 0, 2, 3, 1, 1, 0,\n",
       "       3, 1, 1, 0, 0, 3, 3, 3, 5, 3, 3, 0, 6, 4, 2, 1, 5, 2, 2, 4, 6, 1,\n",
       "       2, 5, 4, 5, 4, 3, 6, 2, 2, 1, 1, 1, 3, 1, 2, 4, 2, 5, 0, 3, 1, 1,\n",
       "       4, 2, 3, 3, 5, 3, 4, 3, 3, 3, 3, 3, 0, 1, 3, 3, 5, 0, 3, 2, 3, 3,\n",
       "       3, 3, 3, 3, 3, 5, 5, 4, 4, 2, 6, 3, 4, 3, 2, 5, 3, 5, 6, 4, 2, 2,\n",
       "       2, 5, 6, 6, 1, 6, 6, 6, 6, 6, 6, 6, 6, 4, 5, 3, 5, 3, 4, 6, 6, 3,\n",
       "       6, 5, 6, 5, 5, 5, 6, 4, 5, 6, 0, 6, 3, 5, 5, 4, 6, 6, 3, 5, 4, 4,\n",
       "       4, 1, 5, 6, 3, 6, 2, 2, 4, 3, 3, 5, 1, 1, 1, 4, 6, 6, 1, 1, 1, 3,\n",
       "       3, 3, 1, 5, 4, 5, 3, 5, 4, 1, 3, 5, 5, 4, 6, 6, 0, 0, 0, 0, 0, 5,\n",
       "       5, 5, 5, 1, 5, 0, 0, 6, 6, 0, 3, 1, 3, 0, 5, 5, 0, 5, 5, 2, 0, 1,\n",
       "       6, 6, 1, 1, 1, 4, 4, 5, 4, 4, 4, 5, 4, 4, 4, 6, 4, 4, 0, 0, 4, 6,\n",
       "       3, 6, 4, 5, 4, 6, 5, 4, 0, 4, 6, 0, 6, 1, 5, 4, 6, 4, 0, 0, 4, 4,\n",
       "       4, 4, 5, 0, 4, 4, 3, 2, 0, 0, 2, 5, 4, 3, 5, 3, 4, 4, 6, 4, 6, 1,\n",
       "       4, 4, 3, 1, 1, 1, 1, 1, 6, 0, 0, 1, 1, 5, 4, 6, 6, 1, 2, 5, 0, 2,\n",
       "       2, 2, 2, 0, 1, 6, 2, 0, 6, 4, 2, 2, 3, 5, 5, 2, 0, 2, 2, 3, 3, 6,\n",
       "       5, 2, 2, 2, 2, 6, 5, 4, 2, 4, 2, 2, 6, 1, 4, 4, 1, 5, 4, 4, 5, 5,\n",
       "       3, 5, 6, 0, 2, 2, 6, 4, 2, 2, 5, 4, 1, 3, 5, 1, 2, 4, 5, 2, 3, 5,\n",
       "       6, 4, 2, 2, 4, 2, 6, 6, 6, 0, 3, 3, 3, 6, 2, 4, 6, 3, 0, 6, 1, 1,\n",
       "       6, 6, 6, 4, 6, 6, 3, 3, 0, 1, 5, 3, 5, 5, 1, 4, 5, 6, 2, 2, 1, 2,\n",
       "       2, 0, 4, 4, 5, 2, 1, 0, 4, 2, 1, 0, 0, 4, 2, 2, 4, 1, 1, 6, 6, 1,\n",
       "       6, 6, 5, 5, 2, 4, 2, 0, 4, 5, 5, 5, 5, 5, 5, 6, 5, 1, 1, 0, 0, 0,\n",
       "       4, 0, 5, 5, 5, 5, 3, 4, 1, 0, 4, 5, 2, 1, 4, 5, 5, 1, 1, 0, 1, 1,\n",
       "       1, 1, 1, 1, 1, 5, 5, 2, 5, 0, 1, 5, 1, 1, 0, 4, 6, 1, 1, 5, 5, 1,\n",
       "       5, 3, 5, 3, 1, 4, 5, 6, 6, 5, 6, 1, 5, 6, 5, 5, 6, 0, 6, 0, 5, 5,\n",
       "       0, 3, 5, 0, 3, 1, 5, 4, 4, 6, 5, 6, 3, 3, 1, 6, 1, 5, 3, 1, 6, 5,\n",
       "       4, 5, 1, 1, 1, 0, 5, 0, 0, 1, 3, 5, 3, 5, 5, 2, 2, 4, 6, 6, 6, 6,\n",
       "       4, 0, 4, 3, 4, 5, 3, 4, 4, 4, 4, 4, 5, 0, 4, 1, 5, 4, 6, 1, 2, 4,\n",
       "       1, 6, 0, 2, 0, 3, 1, 3, 3, 3, 3, 5, 3, 3, 2, 3, 5, 3, 3, 2, 5, 1,\n",
       "       3, 2, 3, 3, 5, 2, 5, 2, 5, 3, 3, 5, 3, 4, 0, 3, 0, 1, 0, 3, 3, 6,\n",
       "       3, 1, 4, 0, 3, 1, 5, 2, 0, 3, 2, 4, 0, 2, 2, 2, 0, 2, 2, 4, 2, 5,\n",
       "       5, 5, 5, 0, 4, 2, 2, 5, 5, 4, 2, 4, 2, 4, 2, 5, 6, 6, 2, 2, 1, 4,\n",
       "       1, 6, 2, 1, 1, 1, 2, 6, 1, 2, 2, 2, 2, 2, 6, 5, 2, 5, 5, 4, 5],\n",
       "      dtype=int64)"
      ]
     },
     "execution_count": 35,
     "metadata": {},
     "output_type": "execute_result"
    }
   ],
   "source": [
    "topic_results.argmax(axis=1)"
   ]
  },
  {
   "cell_type": "code",
   "execution_count": 36,
   "metadata": {},
   "outputs": [],
   "source": [
    "npr['Topic'] = topic_results.argmax(axis=1)"
   ]
  },
  {
   "cell_type": "code",
   "execution_count": 37,
   "metadata": {},
   "outputs": [
    {
     "data": {
      "text/html": [
       "<div>\n",
       "<style scoped>\n",
       "    .dataframe tbody tr th:only-of-type {\n",
       "        vertical-align: middle;\n",
       "    }\n",
       "\n",
       "    .dataframe tbody tr th {\n",
       "        vertical-align: top;\n",
       "    }\n",
       "\n",
       "    .dataframe thead th {\n",
       "        text-align: right;\n",
       "    }\n",
       "</style>\n",
       "<table border=\"1\" class=\"dataframe\">\n",
       "  <thead>\n",
       "    <tr style=\"text-align: right;\">\n",
       "      <th></th>\n",
       "      <th>Book</th>\n",
       "      <th>Chapter</th>\n",
       "      <th>Verse</th>\n",
       "      <th>Content</th>\n",
       "      <th>Topic</th>\n",
       "    </tr>\n",
       "  </thead>\n",
       "  <tbody>\n",
       "    <tr>\n",
       "      <th>0</th>\n",
       "      <td>John</td>\n",
       "      <td>1</td>\n",
       "      <td>1</td>\n",
       "      <td>In the beginning was the Word, and the Word wa...</td>\n",
       "      <td>0</td>\n",
       "    </tr>\n",
       "    <tr>\n",
       "      <th>1</th>\n",
       "      <td>John</td>\n",
       "      <td>1</td>\n",
       "      <td>2</td>\n",
       "      <td>He was in the beginning with God.</td>\n",
       "      <td>0</td>\n",
       "    </tr>\n",
       "    <tr>\n",
       "      <th>2</th>\n",
       "      <td>John</td>\n",
       "      <td>1</td>\n",
       "      <td>3</td>\n",
       "      <td>All things were made through him, and without ...</td>\n",
       "      <td>4</td>\n",
       "    </tr>\n",
       "    <tr>\n",
       "      <th>3</th>\n",
       "      <td>John</td>\n",
       "      <td>1</td>\n",
       "      <td>4</td>\n",
       "      <td>In him was life, and the life was the light of...</td>\n",
       "      <td>3</td>\n",
       "    </tr>\n",
       "    <tr>\n",
       "      <th>4</th>\n",
       "      <td>John</td>\n",
       "      <td>1</td>\n",
       "      <td>5</td>\n",
       "      <td>The light shines in the darkness, and the dark...</td>\n",
       "      <td>1</td>\n",
       "    </tr>\n",
       "    <tr>\n",
       "      <th>5</th>\n",
       "      <td>John</td>\n",
       "      <td>1</td>\n",
       "      <td>6</td>\n",
       "      <td>There was a man sent from God, whose name was ...</td>\n",
       "      <td>3</td>\n",
       "    </tr>\n",
       "    <tr>\n",
       "      <th>6</th>\n",
       "      <td>John</td>\n",
       "      <td>1</td>\n",
       "      <td>7</td>\n",
       "      <td>He came as a witness, to bear witness about th...</td>\n",
       "      <td>1</td>\n",
       "    </tr>\n",
       "    <tr>\n",
       "      <th>7</th>\n",
       "      <td>John</td>\n",
       "      <td>1</td>\n",
       "      <td>8</td>\n",
       "      <td>He was not the light, but came to bear witness...</td>\n",
       "      <td>1</td>\n",
       "    </tr>\n",
       "    <tr>\n",
       "      <th>8</th>\n",
       "      <td>John</td>\n",
       "      <td>1</td>\n",
       "      <td>9</td>\n",
       "      <td>The true light, which gives light to everyone,...</td>\n",
       "      <td>1</td>\n",
       "    </tr>\n",
       "    <tr>\n",
       "      <th>9</th>\n",
       "      <td>John</td>\n",
       "      <td>1</td>\n",
       "      <td>10</td>\n",
       "      <td>He was in the world, and the world was made th...</td>\n",
       "      <td>5</td>\n",
       "    </tr>\n",
       "    <tr>\n",
       "      <th>10</th>\n",
       "      <td>John</td>\n",
       "      <td>1</td>\n",
       "      <td>11</td>\n",
       "      <td>He came to his own, and his own people did not...</td>\n",
       "      <td>3</td>\n",
       "    </tr>\n",
       "    <tr>\n",
       "      <th>11</th>\n",
       "      <td>John</td>\n",
       "      <td>1</td>\n",
       "      <td>12</td>\n",
       "      <td>But to all who did receive him, who believed i...</td>\n",
       "      <td>5</td>\n",
       "    </tr>\n",
       "    <tr>\n",
       "      <th>12</th>\n",
       "      <td>John</td>\n",
       "      <td>1</td>\n",
       "      <td>13</td>\n",
       "      <td>who were born, not of blood nor of the will of...</td>\n",
       "      <td>3</td>\n",
       "    </tr>\n",
       "    <tr>\n",
       "      <th>13</th>\n",
       "      <td>John</td>\n",
       "      <td>1</td>\n",
       "      <td>14</td>\n",
       "      <td>And the Word became flesh and dwelt among us, ...</td>\n",
       "      <td>0</td>\n",
       "    </tr>\n",
       "    <tr>\n",
       "      <th>14</th>\n",
       "      <td>John</td>\n",
       "      <td>1</td>\n",
       "      <td>15</td>\n",
       "      <td>(John bore witness about him, and cried out, ?...</td>\n",
       "      <td>3</td>\n",
       "    </tr>\n",
       "  </tbody>\n",
       "</table>\n",
       "</div>"
      ],
      "text/plain": [
       "    Book  Chapter  Verse                                            Content  \\\n",
       "0   John        1      1  In the beginning was the Word, and the Word wa...   \n",
       "1   John        1      2                  He was in the beginning with God.   \n",
       "2   John        1      3  All things were made through him, and without ...   \n",
       "3   John        1      4  In him was life, and the life was the light of...   \n",
       "4   John        1      5  The light shines in the darkness, and the dark...   \n",
       "5   John        1      6  There was a man sent from God, whose name was ...   \n",
       "6   John        1      7  He came as a witness, to bear witness about th...   \n",
       "7   John        1      8  He was not the light, but came to bear witness...   \n",
       "8   John        1      9  The true light, which gives light to everyone,...   \n",
       "9   John        1     10  He was in the world, and the world was made th...   \n",
       "10  John        1     11  He came to his own, and his own people did not...   \n",
       "11  John        1     12  But to all who did receive him, who believed i...   \n",
       "12  John        1     13  who were born, not of blood nor of the will of...   \n",
       "13  John        1     14  And the Word became flesh and dwelt among us, ...   \n",
       "14  John        1     15  (John bore witness about him, and cried out, ?...   \n",
       "\n",
       "    Topic  \n",
       "0       0  \n",
       "1       0  \n",
       "2       4  \n",
       "3       3  \n",
       "4       1  \n",
       "5       3  \n",
       "6       1  \n",
       "7       1  \n",
       "8       1  \n",
       "9       5  \n",
       "10      3  \n",
       "11      5  \n",
       "12      3  \n",
       "13      0  \n",
       "14      3  "
      ]
     },
     "execution_count": 37,
     "metadata": {},
     "output_type": "execute_result"
    }
   ],
   "source": [
    "npr.head(15)"
   ]
  },
  {
   "cell_type": "markdown",
   "metadata": {},
   "source": [
    "## Great work!"
   ]
  },
  {
   "cell_type": "code",
   "execution_count": 45,
   "metadata": {},
   "outputs": [
    {
     "name": "stdout",
     "output_type": "stream",
     "text": [
      "The watermark extension is already loaded. To reload it, use:\n",
      "  %reload_ext watermark\n",
      "Python implementation: CPython\n",
      "Python version       : 3.8.3\n",
      "IPython version      : 7.16.1\n",
      "\n",
      "pandas   : 1.0.5\n",
      "numpy    : 1.18.5\n",
      "sklearn  : 0.23.1\n",
      "watermark: 2.1.0\n",
      "\n",
      "Compiler    : MSC v.1916 64 bit (AMD64)\n",
      "OS          : Windows\n",
      "Release     : 10\n",
      "Machine     : AMD64\n",
      "Processor   : Intel64 Family 6 Model 61 Stepping 4, GenuineIntel\n",
      "CPU cores   : 4\n",
      "Architecture: 64bit\n",
      "\n",
      " \n",
      "Last updated: Fri Dec 04 2020 12:32:49Central Standard Time\n",
      "\n"
     ]
    }
   ],
   "source": [
    "import watermark\n",
    "%load_ext watermark\n",
    "\n",
    "# python, ipython, packages, and machine characteristics\n",
    "%watermark -v -m -p pandas,numpy,sklearn,watermark \n",
    "\n",
    "#%watermark -d -n -t -i -z -u -v -h -m -g -w\n",
    "\n",
    "\n",
    "# date\n",
    "print (\" \")\n",
    "%watermark -u -n -t -z"
   ]
  },
  {
   "cell_type": "code",
   "execution_count": null,
   "metadata": {},
   "outputs": [],
   "source": []
  }
 ],
 "metadata": {
  "kernelspec": {
   "display_name": "Python 3",
   "language": "python",
   "name": "python3"
  },
  "language_info": {
   "codemirror_mode": {
    "name": "ipython",
    "version": 3
   },
   "file_extension": ".py",
   "mimetype": "text/x-python",
   "name": "python",
   "nbconvert_exporter": "python",
   "pygments_lexer": "ipython3",
   "version": "3.8.3"
  }
 },
 "nbformat": 4,
 "nbformat_minor": 2
}
