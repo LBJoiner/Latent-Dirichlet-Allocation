{
 "cells": [
  {
   "cell_type": "markdown",
   "metadata": {},
   "source": [
    "___\n",
    "\n",
    "<a href='http://www.pieriandata.com'> <img src='../Pierian_Data_Logo.png' /></a>\n",
    "___"
   ]
  },
  {
   "cell_type": "markdown",
   "metadata": {},
   "source": [
    "# Non-Negative Matric Factorization\n",
    "\n",
    "Let's repeat thet opic modeling task from the previous lecture, but this time, we will use NMF instead of LDA."
   ]
  },
  {
   "cell_type": "markdown",
   "metadata": {},
   "source": [
    "## Data\n",
    "\n",
    "We will be using articles scraped from NPR (National Public Radio), obtained from their website [www.npr.org](http://www.npr.org)"
   ]
  },
  {
   "cell_type": "code",
   "execution_count": 1,
   "metadata": {},
   "outputs": [],
   "source": [
    "import pandas as pd"
   ]
  },
  {
   "cell_type": "code",
   "execution_count": 2,
   "metadata": {},
   "outputs": [],
   "source": [
    "npr = pd.read_csv('bible.csv')"
   ]
  },
  {
   "cell_type": "code",
   "execution_count": 3,
   "metadata": {},
   "outputs": [
    {
     "data": {
      "text/html": [
       "<div>\n",
       "<style scoped>\n",
       "    .dataframe tbody tr th:only-of-type {\n",
       "        vertical-align: middle;\n",
       "    }\n",
       "\n",
       "    .dataframe tbody tr th {\n",
       "        vertical-align: top;\n",
       "    }\n",
       "\n",
       "    .dataframe thead th {\n",
       "        text-align: right;\n",
       "    }\n",
       "</style>\n",
       "<table border=\"1\" class=\"dataframe\">\n",
       "  <thead>\n",
       "    <tr style=\"text-align: right;\">\n",
       "      <th></th>\n",
       "      <th>Book</th>\n",
       "      <th>Content</th>\n",
       "    </tr>\n",
       "  </thead>\n",
       "  <tbody>\n",
       "    <tr>\n",
       "      <th>0</th>\n",
       "      <td>Genesis</td>\n",
       "      <td>In the beginning, God created the heavens and ...</td>\n",
       "    </tr>\n",
       "    <tr>\n",
       "      <th>1</th>\n",
       "      <td>Exodus</td>\n",
       "      <td>These are the names of the sons of Israel who ...</td>\n",
       "    </tr>\n",
       "    <tr>\n",
       "      <th>2</th>\n",
       "      <td>Leviticus</td>\n",
       "      <td>The LORD called Moses and spoke to him from th...</td>\n",
       "    </tr>\n",
       "    <tr>\n",
       "      <th>3</th>\n",
       "      <td>Numbers</td>\n",
       "      <td>The LORD spoke to Moses in the wilderness of S...</td>\n",
       "    </tr>\n",
       "    <tr>\n",
       "      <th>4</th>\n",
       "      <td>Deuteronomy</td>\n",
       "      <td>These are the words that Moses spoke to all Is...</td>\n",
       "    </tr>\n",
       "  </tbody>\n",
       "</table>\n",
       "</div>"
      ],
      "text/plain": [
       "          Book                                            Content\n",
       "0      Genesis  In the beginning, God created the heavens and ...\n",
       "1       Exodus  These are the names of the sons of Israel who ...\n",
       "2    Leviticus  The LORD called Moses and spoke to him from th...\n",
       "3      Numbers  The LORD spoke to Moses in the wilderness of S...\n",
       "4  Deuteronomy  These are the words that Moses spoke to all Is..."
      ]
     },
     "execution_count": 3,
     "metadata": {},
     "output_type": "execute_result"
    }
   ],
   "source": [
    "npr.head()"
   ]
  },
  {
   "cell_type": "markdown",
   "metadata": {},
   "source": [
    "Notice how we don't have the topic of the articles! Let's use LDA to attempt to figure out clusters of the articles."
   ]
  },
  {
   "cell_type": "markdown",
   "metadata": {},
   "source": [
    "## Preprocessing"
   ]
  },
  {
   "cell_type": "code",
   "execution_count": 4,
   "metadata": {},
   "outputs": [],
   "source": [
    "from sklearn.feature_extraction.text import TfidfVectorizer"
   ]
  },
  {
   "cell_type": "markdown",
   "metadata": {},
   "source": [
    "**`max_df`**` : float in range [0.0, 1.0] or int, default=1.0`<br>\n",
    "When building the vocabulary ignore terms that have a document frequency strictly higher than the given threshold (corpus-specific stop words). If float, the parameter represents a proportion of documents, integer absolute counts. This parameter is ignored if vocabulary is not None.\n",
    "\n",
    "**`min_df`**` : float in range [0.0, 1.0] or int, default=1`<br>\n",
    "When building the vocabulary ignore terms that have a document frequency strictly lower than the given threshold. This value is also called cut-off in the literature. If float, the parameter represents a proportion of documents, integer absolute counts. This parameter is ignored if vocabulary is not None."
   ]
  },
  {
   "cell_type": "code",
   "execution_count": 5,
   "metadata": {},
   "outputs": [],
   "source": [
    "tfidf = TfidfVectorizer(max_df=0.95, min_df=2, stop_words='english')"
   ]
  },
  {
   "cell_type": "code",
   "execution_count": 6,
   "metadata": {},
   "outputs": [],
   "source": [
    "dtm = tfidf.fit_transform(npr['Content'])"
   ]
  },
  {
   "cell_type": "code",
   "execution_count": 7,
   "metadata": {},
   "outputs": [
    {
     "data": {
      "text/plain": [
       "<66x7619 sparse matrix of type '<class 'numpy.float64'>'\n",
       "\twith 58977 stored elements in Compressed Sparse Row format>"
      ]
     },
     "execution_count": 7,
     "metadata": {},
     "output_type": "execute_result"
    }
   ],
   "source": [
    "dtm"
   ]
  },
  {
   "cell_type": "markdown",
   "metadata": {},
   "source": [
    "## NMF"
   ]
  },
  {
   "cell_type": "code",
   "execution_count": 8,
   "metadata": {},
   "outputs": [],
   "source": [
    "from sklearn.decomposition import NMF"
   ]
  },
  {
   "cell_type": "code",
   "execution_count": 9,
   "metadata": {},
   "outputs": [],
   "source": [
    "nmf_model = NMF(n_components=7)"
   ]
  },
  {
   "cell_type": "code",
   "execution_count": 10,
   "metadata": {},
   "outputs": [
    {
     "data": {
      "text/plain": [
       "NMF(n_components=7)"
      ]
     },
     "execution_count": 10,
     "metadata": {},
     "output_type": "execute_result"
    }
   ],
   "source": [
    "# This can take awhile, we're dealing with a large amount of documents!\n",
    "nmf_model.fit(dtm)"
   ]
  },
  {
   "cell_type": "markdown",
   "metadata": {},
   "source": [
    "## Displaying Topics"
   ]
  },
  {
   "cell_type": "code",
   "execution_count": 11,
   "metadata": {},
   "outputs": [
    {
     "data": {
      "text/plain": [
       "7619"
      ]
     },
     "execution_count": 11,
     "metadata": {},
     "output_type": "execute_result"
    }
   ],
   "source": [
    "len(tfidf.get_feature_names())"
   ]
  },
  {
   "cell_type": "code",
   "execution_count": 12,
   "metadata": {},
   "outputs": [],
   "source": [
    "import random"
   ]
  },
  {
   "cell_type": "code",
   "execution_count": 13,
   "metadata": {},
   "outputs": [
    {
     "name": "stdout",
     "output_type": "stream",
     "text": [
      "loudly\n",
      "nullify\n",
      "heap\n",
      "flashing\n",
      "country\n",
      "enter\n",
      "dishes\n",
      "ebed\n",
      "pastured\n",
      "defrauded\n"
     ]
    }
   ],
   "source": [
    "for i in range(10):\n",
    "    random_word_id = random.randint(0,7619)\n",
    "    print(tfidf.get_feature_names()[random_word_id])"
   ]
  },
  {
   "cell_type": "code",
   "execution_count": 14,
   "metadata": {},
   "outputs": [
    {
     "data": {
      "text/plain": [
       "7"
      ]
     },
     "execution_count": 14,
     "metadata": {},
     "output_type": "execute_result"
    }
   ],
   "source": [
    "len(nmf_model.components_)"
   ]
  },
  {
   "cell_type": "code",
   "execution_count": 15,
   "metadata": {},
   "outputs": [
    {
     "data": {
      "text/plain": [
       "array([[4.44539350e-04, 0.00000000e+00, 0.00000000e+00, ...,\n",
       "        0.00000000e+00, 0.00000000e+00, 0.00000000e+00],\n",
       "       [0.00000000e+00, 0.00000000e+00, 0.00000000e+00, ...,\n",
       "        0.00000000e+00, 0.00000000e+00, 0.00000000e+00],\n",
       "       [9.63039524e-02, 4.16133406e-03, 4.16133406e-03, ...,\n",
       "        8.08404042e-03, 1.79731661e-03, 6.06733188e-03],\n",
       "       ...,\n",
       "       [2.53670668e-02, 0.00000000e+00, 0.00000000e+00, ...,\n",
       "        0.00000000e+00, 0.00000000e+00, 0.00000000e+00],\n",
       "       [0.00000000e+00, 0.00000000e+00, 0.00000000e+00, ...,\n",
       "        1.60964237e-04, 0.00000000e+00, 2.63181746e-04],\n",
       "       [0.00000000e+00, 1.75433108e-04, 1.75433108e-04, ...,\n",
       "        0.00000000e+00, 4.10316675e-05, 2.85626434e-04]])"
      ]
     },
     "execution_count": 15,
     "metadata": {},
     "output_type": "execute_result"
    }
   ],
   "source": [
    "nmf_model.components_"
   ]
  },
  {
   "cell_type": "code",
   "execution_count": 16,
   "metadata": {},
   "outputs": [
    {
     "data": {
      "text/plain": [
       "7619"
      ]
     },
     "execution_count": 16,
     "metadata": {},
     "output_type": "execute_result"
    }
   ],
   "source": [
    "len(nmf_model.components_[0])"
   ]
  },
  {
   "cell_type": "code",
   "execution_count": 17,
   "metadata": {},
   "outputs": [],
   "source": [
    "single_topic = nmf_model.components_[0]"
   ]
  },
  {
   "cell_type": "code",
   "execution_count": 18,
   "metadata": {},
   "outputs": [
    {
     "data": {
      "text/plain": [
       "array([3809, 4218, 4217, ..., 4028, 3385, 4099], dtype=int64)"
      ]
     },
     "execution_count": 18,
     "metadata": {},
     "output_type": "execute_result"
    }
   ],
   "source": [
    "# Returns the indices that would sort this array.\n",
    "single_topic.argsort()"
   ]
  },
  {
   "cell_type": "code",
   "execution_count": 19,
   "metadata": {},
   "outputs": [
    {
     "data": {
      "text/plain": [
       "array([3704, 7607, 1748, 4524, 5865, 1704, 6024, 4028, 3385, 4099],\n",
       "      dtype=int64)"
      ]
     },
     "execution_count": 19,
     "metadata": {},
     "output_type": "execute_result"
    }
   ],
   "source": [
    "# Top 10 words for this topic:\n",
    "single_topic.argsort()[-10:]"
   ]
  },
  {
   "cell_type": "code",
   "execution_count": 20,
   "metadata": {},
   "outputs": [],
   "source": [
    "top_word_indices = single_topic.argsort()[-10:]"
   ]
  },
  {
   "cell_type": "code",
   "execution_count": 21,
   "metadata": {},
   "outputs": [
    {
     "name": "stdout",
     "output_type": "stream",
     "text": [
      "jerusalem\n",
      "zion\n",
      "declares\n",
      "nations\n",
      "says\n",
      "day\n",
      "shall\n",
      "like\n",
      "hosts\n",
      "lord\n"
     ]
    }
   ],
   "source": [
    "for index in top_word_indices:\n",
    "    print(tfidf.get_feature_names()[index])"
   ]
  },
  {
   "cell_type": "markdown",
   "metadata": {},
   "source": [
    "These look like business articles perhaps... Let's confirm by using .transform() on our vectorized articles to attach a label number. But first, let's view all the 10 topics found."
   ]
  },
  {
   "cell_type": "code",
   "execution_count": 36,
   "metadata": {},
   "outputs": [
    {
     "name": "stdout",
     "output_type": "stream",
     "text": [
      "THE TOP 15 WORDS FOR TOPIC #0\n",
      "['day', 'shall', 'like', 'hosts', 'lord']\n",
      "\n",
      "\n",
      "THE TOP 15 WORDS FOR TOPIC #1\n",
      "['grace', 'lord', 'faith', 'jesus', 'christ']\n",
      "\n",
      "\n",
      "THE TOP 15 WORDS FOR TOPIC #2\n",
      "['david', 'israel', 'son', 'sons', 'king']\n",
      "\n",
      "\n",
      "THE TOP 15 WORDS FOR TOPIC #3\n",
      "['went', 'came', 'disciples', 'jesus', 'said']\n",
      "\n",
      "\n",
      "THE TOP 15 WORDS FOR TOPIC #4\n",
      "['wise', 'wicked', 'wisdom', 'like', 'man']\n",
      "\n",
      "\n",
      "THE TOP 15 WORDS FOR TOPIC #5\n",
      "['people', 'israel', 'land', 'lord', 'shall']\n",
      "\n",
      "\n",
      "THE TOP 15 WORDS FOR TOPIC #6\n",
      "['beloved', 'does', 'love', 'abides', 'truth']\n",
      "\n",
      "\n"
     ]
    }
   ],
   "source": [
    "for index,topic in enumerate(nmf_model.components_):\n",
    "    print(f'THE TOP 15 WORDS FOR TOPIC #{index}')\n",
    "    print([tfidf.get_feature_names()[i] for i in topic.argsort()[-5:]])\n",
    "    print('\\n')"
   ]
  },
  {
   "cell_type": "markdown",
   "metadata": {},
   "source": [
    "### Attaching Discovered Topic Labels to Original Articles"
   ]
  },
  {
   "cell_type": "code",
   "execution_count": 37,
   "metadata": {},
   "outputs": [
    {
     "data": {
      "text/plain": [
       "<66x7619 sparse matrix of type '<class 'numpy.float64'>'\n",
       "\twith 58977 stored elements in Compressed Sparse Row format>"
      ]
     },
     "execution_count": 37,
     "metadata": {},
     "output_type": "execute_result"
    }
   ],
   "source": [
    "dtm"
   ]
  },
  {
   "cell_type": "code",
   "execution_count": 38,
   "metadata": {},
   "outputs": [
    {
     "data": {
      "text/plain": [
       "(66, 7619)"
      ]
     },
     "execution_count": 38,
     "metadata": {},
     "output_type": "execute_result"
    }
   ],
   "source": [
    "dtm.shape"
   ]
  },
  {
   "cell_type": "code",
   "execution_count": 39,
   "metadata": {},
   "outputs": [
    {
     "data": {
      "text/plain": [
       "66"
      ]
     },
     "execution_count": 39,
     "metadata": {},
     "output_type": "execute_result"
    }
   ],
   "source": [
    "len(npr)"
   ]
  },
  {
   "cell_type": "code",
   "execution_count": 41,
   "metadata": {},
   "outputs": [],
   "source": [
    "topic_results = nmf_model.transform(dtm)"
   ]
  },
  {
   "cell_type": "code",
   "execution_count": 42,
   "metadata": {},
   "outputs": [
    {
     "data": {
      "text/plain": [
       "(66, 7)"
      ]
     },
     "execution_count": 42,
     "metadata": {},
     "output_type": "execute_result"
    }
   ],
   "source": [
    "topic_results.shape"
   ]
  },
  {
   "cell_type": "code",
   "execution_count": 43,
   "metadata": {},
   "outputs": [
    {
     "data": {
      "text/plain": [
       "array([0.        , 0.        , 0.21299579, 0.25855183, 0.04834474,\n",
       "       0.15068378, 0.        ])"
      ]
     },
     "execution_count": 43,
     "metadata": {},
     "output_type": "execute_result"
    }
   ],
   "source": [
    "topic_results[0]"
   ]
  },
  {
   "cell_type": "code",
   "execution_count": 44,
   "metadata": {},
   "outputs": [
    {
     "data": {
      "text/plain": [
       "array([0.  , 0.  , 0.21, 0.26, 0.05, 0.15, 0.  ])"
      ]
     },
     "execution_count": 44,
     "metadata": {},
     "output_type": "execute_result"
    }
   ],
   "source": [
    "topic_results[0].round(2)"
   ]
  },
  {
   "cell_type": "code",
   "execution_count": 45,
   "metadata": {},
   "outputs": [
    {
     "data": {
      "text/plain": [
       "3"
      ]
     },
     "execution_count": 45,
     "metadata": {},
     "output_type": "execute_result"
    }
   ],
   "source": [
    "topic_results[0].argmax()"
   ]
  },
  {
   "cell_type": "markdown",
   "metadata": {},
   "source": [
    "This means that our model thinks that the first article belongs to topic #1."
   ]
  },
  {
   "cell_type": "markdown",
   "metadata": {},
   "source": [
    "### Combining with Original Data"
   ]
  },
  {
   "cell_type": "code",
   "execution_count": 49,
   "metadata": {},
   "outputs": [
    {
     "name": "stdout",
     "output_type": "stream",
     "text": [
      "           Book                                            Content  Topic\n",
      "0       Genesis  In the beginning, God created the heavens and ...      3\n",
      "1        Exodus  These are the names of the sons of Israel who ...      5\n",
      "2     Leviticus  The LORD called Moses and spoke to him from th...      5\n",
      "3       Numbers  The LORD spoke to Moses in the wilderness of S...      5\n",
      "4   Deuteronomy  These are the words that Moses spoke to all Is...      5\n",
      "..          ...                                                ...    ...\n",
      "61       1 John  That which was from the beginning, which we ha...      6\n",
      "62       2 John  The elder to the elect lady and her children, ...      6\n",
      "63       3 John  The elder to the beloved Gaius, whom I love in...      6\n",
      "64         Jude  Jude, a servant of Jesus Christ and brother of...      1\n",
      "65   Revelation  The revelation of Jesus Christ, which God gave...      4\n",
      "\n",
      "[66 rows x 3 columns]\n"
     ]
    }
   ],
   "source": [
    "print(npr)"
   ]
  },
  {
   "cell_type": "code",
   "execution_count": 32,
   "metadata": {},
   "outputs": [
    {
     "data": {
      "text/plain": [
       "array([3, 5, 5, 5, 5, 2, 2, 3, 2, 2, 2, 2, 2, 2, 2, 2, 2, 4, 0, 4, 4, 4,\n",
       "       5, 0, 0, 5, 5, 5, 0, 5, 5, 0, 5, 0, 0, 5, 0, 0, 0, 3, 3, 3, 3, 3,\n",
       "       1, 1, 1, 1, 1, 1, 1, 1, 1, 1, 1, 1, 1, 1, 4, 1, 1, 6, 6, 6, 1, 4],\n",
       "      dtype=int64)"
      ]
     },
     "execution_count": 32,
     "metadata": {},
     "output_type": "execute_result"
    }
   ],
   "source": [
    "topic_results.argmax(axis=1)"
   ]
  },
  {
   "cell_type": "code",
   "execution_count": 33,
   "metadata": {},
   "outputs": [],
   "source": [
    "npr['Topic'] = topic_results.argmax(axis=1)"
   ]
  },
  {
   "cell_type": "code",
   "execution_count": 51,
   "metadata": {},
   "outputs": [
    {
     "data": {
      "text/html": [
       "<div>\n",
       "<style scoped>\n",
       "    .dataframe tbody tr th:only-of-type {\n",
       "        vertical-align: middle;\n",
       "    }\n",
       "\n",
       "    .dataframe tbody tr th {\n",
       "        vertical-align: top;\n",
       "    }\n",
       "\n",
       "    .dataframe thead th {\n",
       "        text-align: right;\n",
       "    }\n",
       "</style>\n",
       "<table border=\"1\" class=\"dataframe\">\n",
       "  <thead>\n",
       "    <tr style=\"text-align: right;\">\n",
       "      <th></th>\n",
       "      <th>Book</th>\n",
       "      <th>Content</th>\n",
       "      <th>Topic</th>\n",
       "    </tr>\n",
       "  </thead>\n",
       "  <tbody>\n",
       "    <tr>\n",
       "      <th>0</th>\n",
       "      <td>Genesis</td>\n",
       "      <td>In the beginning, God created the heavens and ...</td>\n",
       "      <td>3</td>\n",
       "    </tr>\n",
       "    <tr>\n",
       "      <th>1</th>\n",
       "      <td>Exodus</td>\n",
       "      <td>These are the names of the sons of Israel who ...</td>\n",
       "      <td>5</td>\n",
       "    </tr>\n",
       "    <tr>\n",
       "      <th>2</th>\n",
       "      <td>Leviticus</td>\n",
       "      <td>The LORD called Moses and spoke to him from th...</td>\n",
       "      <td>5</td>\n",
       "    </tr>\n",
       "    <tr>\n",
       "      <th>3</th>\n",
       "      <td>Numbers</td>\n",
       "      <td>The LORD spoke to Moses in the wilderness of S...</td>\n",
       "      <td>5</td>\n",
       "    </tr>\n",
       "    <tr>\n",
       "      <th>4</th>\n",
       "      <td>Deuteronomy</td>\n",
       "      <td>These are the words that Moses spoke to all Is...</td>\n",
       "      <td>5</td>\n",
       "    </tr>\n",
       "    <tr>\n",
       "      <th>5</th>\n",
       "      <td>Joshua</td>\n",
       "      <td>After the death of Moses the servant of the LO...</td>\n",
       "      <td>2</td>\n",
       "    </tr>\n",
       "    <tr>\n",
       "      <th>6</th>\n",
       "      <td>Judges</td>\n",
       "      <td>After the death of Joshua, the people of Israe...</td>\n",
       "      <td>2</td>\n",
       "    </tr>\n",
       "    <tr>\n",
       "      <th>7</th>\n",
       "      <td>Ruth</td>\n",
       "      <td>In the days when the judges ruled there was a ...</td>\n",
       "      <td>3</td>\n",
       "    </tr>\n",
       "    <tr>\n",
       "      <th>8</th>\n",
       "      <td>1 Samuel</td>\n",
       "      <td>There was a certain man of Ramathaim-zophim of...</td>\n",
       "      <td>2</td>\n",
       "    </tr>\n",
       "    <tr>\n",
       "      <th>9</th>\n",
       "      <td>2 Samuel</td>\n",
       "      <td>After the death of Saul, when David had return...</td>\n",
       "      <td>2</td>\n",
       "    </tr>\n",
       "    <tr>\n",
       "      <th>10</th>\n",
       "      <td>1 Kings</td>\n",
       "      <td>Now King David was old and advanced in years. ...</td>\n",
       "      <td>2</td>\n",
       "    </tr>\n",
       "    <tr>\n",
       "      <th>11</th>\n",
       "      <td>2 Kings</td>\n",
       "      <td>After the death of Ahab, Moab rebelled against...</td>\n",
       "      <td>2</td>\n",
       "    </tr>\n",
       "    <tr>\n",
       "      <th>12</th>\n",
       "      <td>1 Chronicles</td>\n",
       "      <td>Adam, Seth, Enosh;,Kenan, Mahalalel, Jared;,En...</td>\n",
       "      <td>2</td>\n",
       "    </tr>\n",
       "    <tr>\n",
       "      <th>13</th>\n",
       "      <td>2 Chronicles</td>\n",
       "      <td>Solomon the son of David established himself i...</td>\n",
       "      <td>2</td>\n",
       "    </tr>\n",
       "    <tr>\n",
       "      <th>14</th>\n",
       "      <td>Ezra</td>\n",
       "      <td>Now in the first year of Cyrus king of Persia,...</td>\n",
       "      <td>2</td>\n",
       "    </tr>\n",
       "    <tr>\n",
       "      <th>15</th>\n",
       "      <td>Nehemiah</td>\n",
       "      <td>The words of Nehemiah the son of Hacaliah.Now ...</td>\n",
       "      <td>2</td>\n",
       "    </tr>\n",
       "    <tr>\n",
       "      <th>16</th>\n",
       "      <td>Esther</td>\n",
       "      <td>Now in the days of Ahasuerus, the Ahasuerus wh...</td>\n",
       "      <td>2</td>\n",
       "    </tr>\n",
       "    <tr>\n",
       "      <th>17</th>\n",
       "      <td>Job</td>\n",
       "      <td>There was a man in the land of Uz whose name w...</td>\n",
       "      <td>4</td>\n",
       "    </tr>\n",
       "    <tr>\n",
       "      <th>18</th>\n",
       "      <td>Psalms</td>\n",
       "      <td>Blessed is the man who walks not in the counse...</td>\n",
       "      <td>0</td>\n",
       "    </tr>\n",
       "    <tr>\n",
       "      <th>19</th>\n",
       "      <td>Proverbs</td>\n",
       "      <td>The proverbs of Solomon, son of David, king of...</td>\n",
       "      <td>4</td>\n",
       "    </tr>\n",
       "    <tr>\n",
       "      <th>20</th>\n",
       "      <td>Ecclesiastes</td>\n",
       "      <td>The words of the Preacher, the son of David, k...</td>\n",
       "      <td>4</td>\n",
       "    </tr>\n",
       "    <tr>\n",
       "      <th>21</th>\n",
       "      <td>Song of Solomon</td>\n",
       "      <td>The Song of Songs, which is Solomon's.,Let him...</td>\n",
       "      <td>4</td>\n",
       "    </tr>\n",
       "    <tr>\n",
       "      <th>22</th>\n",
       "      <td>Isaiah</td>\n",
       "      <td>The vision of Isaiah the son of Amoz, which he...</td>\n",
       "      <td>5</td>\n",
       "    </tr>\n",
       "    <tr>\n",
       "      <th>23</th>\n",
       "      <td>Jeremiah</td>\n",
       "      <td>The words of Jeremiah, the son of Hilkiah, one...</td>\n",
       "      <td>0</td>\n",
       "    </tr>\n",
       "    <tr>\n",
       "      <th>24</th>\n",
       "      <td>Lamentations</td>\n",
       "      <td>How lonely sits the city that was full of peop...</td>\n",
       "      <td>0</td>\n",
       "    </tr>\n",
       "    <tr>\n",
       "      <th>25</th>\n",
       "      <td>Ezekiel</td>\n",
       "      <td>In the thirtieth year, in the fourth month, on...</td>\n",
       "      <td>5</td>\n",
       "    </tr>\n",
       "    <tr>\n",
       "      <th>26</th>\n",
       "      <td>Daniel</td>\n",
       "      <td>In the third year of the reign of Jehoiakim ki...</td>\n",
       "      <td>5</td>\n",
       "    </tr>\n",
       "    <tr>\n",
       "      <th>27</th>\n",
       "      <td>Hosea</td>\n",
       "      <td>The word of the LORD that came to Hosea, the s...</td>\n",
       "      <td>5</td>\n",
       "    </tr>\n",
       "    <tr>\n",
       "      <th>28</th>\n",
       "      <td>Joel</td>\n",
       "      <td>The word of the LORD that came to Joel, the so...</td>\n",
       "      <td>0</td>\n",
       "    </tr>\n",
       "    <tr>\n",
       "      <th>29</th>\n",
       "      <td>Amos</td>\n",
       "      <td>The words of Amos, who was among the shepherds...</td>\n",
       "      <td>5</td>\n",
       "    </tr>\n",
       "    <tr>\n",
       "      <th>30</th>\n",
       "      <td>Obadiah</td>\n",
       "      <td>The vision of Obadiah. Thus says the Lord God ...</td>\n",
       "      <td>5</td>\n",
       "    </tr>\n",
       "    <tr>\n",
       "      <th>31</th>\n",
       "      <td>Jonah</td>\n",
       "      <td>Now the word of the LORD came to Jonah the son...</td>\n",
       "      <td>0</td>\n",
       "    </tr>\n",
       "    <tr>\n",
       "      <th>32</th>\n",
       "      <td>Micah</td>\n",
       "      <td>The word of the LORD that came to Micah of Mor...</td>\n",
       "      <td>5</td>\n",
       "    </tr>\n",
       "    <tr>\n",
       "      <th>33</th>\n",
       "      <td>Nahum</td>\n",
       "      <td>An oracle concerning Nineveh. The book of the ...</td>\n",
       "      <td>0</td>\n",
       "    </tr>\n",
       "    <tr>\n",
       "      <th>34</th>\n",
       "      <td>Habakkuk</td>\n",
       "      <td>The oracle that Habakkuk the prophet saw.,O LO...</td>\n",
       "      <td>0</td>\n",
       "    </tr>\n",
       "    <tr>\n",
       "      <th>35</th>\n",
       "      <td>Zephaniah</td>\n",
       "      <td>The word of the LORD that came to Zephaniah th...</td>\n",
       "      <td>5</td>\n",
       "    </tr>\n",
       "    <tr>\n",
       "      <th>36</th>\n",
       "      <td>Haggai</td>\n",
       "      <td>In the second year of Darius the king, in the ...</td>\n",
       "      <td>0</td>\n",
       "    </tr>\n",
       "    <tr>\n",
       "      <th>37</th>\n",
       "      <td>Zechariah</td>\n",
       "      <td>In the eighth month, in the second year of Dar...</td>\n",
       "      <td>0</td>\n",
       "    </tr>\n",
       "    <tr>\n",
       "      <th>38</th>\n",
       "      <td>Malachi</td>\n",
       "      <td>The oracle of the word of the LORD to Israel b...</td>\n",
       "      <td>0</td>\n",
       "    </tr>\n",
       "    <tr>\n",
       "      <th>39</th>\n",
       "      <td>Matthew</td>\n",
       "      <td>The book of the genealogy of Jesus Christ, the...</td>\n",
       "      <td>3</td>\n",
       "    </tr>\n",
       "    <tr>\n",
       "      <th>40</th>\n",
       "      <td>Mark</td>\n",
       "      <td>The beginning of the gospel of Jesus Christ, t...</td>\n",
       "      <td>3</td>\n",
       "    </tr>\n",
       "    <tr>\n",
       "      <th>41</th>\n",
       "      <td>Luke</td>\n",
       "      <td>Inasmuch as many have undertaken to compile a ...</td>\n",
       "      <td>3</td>\n",
       "    </tr>\n",
       "    <tr>\n",
       "      <th>42</th>\n",
       "      <td>John</td>\n",
       "      <td>In the beginning was the Word, and the Word wa...</td>\n",
       "      <td>3</td>\n",
       "    </tr>\n",
       "    <tr>\n",
       "      <th>43</th>\n",
       "      <td>Acts</td>\n",
       "      <td>In the first book, O Theophilus, I have dealt ...</td>\n",
       "      <td>3</td>\n",
       "    </tr>\n",
       "    <tr>\n",
       "      <th>44</th>\n",
       "      <td>Romans</td>\n",
       "      <td>Paul, a servant of Christ Jesus, called to be ...</td>\n",
       "      <td>1</td>\n",
       "    </tr>\n",
       "    <tr>\n",
       "      <th>45</th>\n",
       "      <td>1 Corinthians</td>\n",
       "      <td>Paul, called by the will of God to be an apost...</td>\n",
       "      <td>1</td>\n",
       "    </tr>\n",
       "    <tr>\n",
       "      <th>46</th>\n",
       "      <td>2 Corinthians</td>\n",
       "      <td>Paul, an apostle of Christ Jesus by the will o...</td>\n",
       "      <td>1</td>\n",
       "    </tr>\n",
       "    <tr>\n",
       "      <th>47</th>\n",
       "      <td>Galatians</td>\n",
       "      <td>The grace of the Lord Jesus Christ and the lov...</td>\n",
       "      <td>1</td>\n",
       "    </tr>\n",
       "    <tr>\n",
       "      <th>48</th>\n",
       "      <td>Ephesians</td>\n",
       "      <td>Paul, an apostle of Christ Jesus by the will o...</td>\n",
       "      <td>1</td>\n",
       "    </tr>\n",
       "    <tr>\n",
       "      <th>49</th>\n",
       "      <td>Philippians</td>\n",
       "      <td>Paul and Timothy, servants of Christ Jesus,To ...</td>\n",
       "      <td>1</td>\n",
       "    </tr>\n",
       "    <tr>\n",
       "      <th>50</th>\n",
       "      <td>Colossians</td>\n",
       "      <td>Paul, an apostle of Christ Jesus by the will o...</td>\n",
       "      <td>1</td>\n",
       "    </tr>\n",
       "    <tr>\n",
       "      <th>51</th>\n",
       "      <td>1 Tessalonians</td>\n",
       "      <td>Paul, Silvanus, and Timothy,To the church of t...</td>\n",
       "      <td>1</td>\n",
       "    </tr>\n",
       "    <tr>\n",
       "      <th>52</th>\n",
       "      <td>2 Thessalonians</td>\n",
       "      <td>Paul, Silvanus, and Timothy,To the church of t...</td>\n",
       "      <td>1</td>\n",
       "    </tr>\n",
       "    <tr>\n",
       "      <th>53</th>\n",
       "      <td>1 Timothy</td>\n",
       "      <td>Paul, an apostle of Christ Jesus by command of...</td>\n",
       "      <td>1</td>\n",
       "    </tr>\n",
       "    <tr>\n",
       "      <th>54</th>\n",
       "      <td>2 Timothy</td>\n",
       "      <td>Paul, an apostle of Christ Jesus by the will o...</td>\n",
       "      <td>1</td>\n",
       "    </tr>\n",
       "    <tr>\n",
       "      <th>55</th>\n",
       "      <td>Titus</td>\n",
       "      <td>Paul, a servant of God and an apostle of Jesus...</td>\n",
       "      <td>1</td>\n",
       "    </tr>\n",
       "    <tr>\n",
       "      <th>56</th>\n",
       "      <td>Philemon</td>\n",
       "      <td>Paul, a prisoner for Christ Jesus, and Timothy...</td>\n",
       "      <td>1</td>\n",
       "    </tr>\n",
       "    <tr>\n",
       "      <th>57</th>\n",
       "      <td>Hebrews</td>\n",
       "      <td>Long ago, at many times and in many ways, God ...</td>\n",
       "      <td>1</td>\n",
       "    </tr>\n",
       "    <tr>\n",
       "      <th>58</th>\n",
       "      <td>James</td>\n",
       "      <td>James, a servant of God and of the Lord Jesus ...</td>\n",
       "      <td>4</td>\n",
       "    </tr>\n",
       "    <tr>\n",
       "      <th>59</th>\n",
       "      <td>1 Peter</td>\n",
       "      <td>Peter, an apostle of Jesus Christ, To those wh...</td>\n",
       "      <td>1</td>\n",
       "    </tr>\n",
       "  </tbody>\n",
       "</table>\n",
       "</div>"
      ],
      "text/plain": [
       "               Book                                            Content  Topic\n",
       "0           Genesis  In the beginning, God created the heavens and ...      3\n",
       "1            Exodus  These are the names of the sons of Israel who ...      5\n",
       "2         Leviticus  The LORD called Moses and spoke to him from th...      5\n",
       "3           Numbers  The LORD spoke to Moses in the wilderness of S...      5\n",
       "4       Deuteronomy  These are the words that Moses spoke to all Is...      5\n",
       "5            Joshua  After the death of Moses the servant of the LO...      2\n",
       "6            Judges  After the death of Joshua, the people of Israe...      2\n",
       "7              Ruth  In the days when the judges ruled there was a ...      3\n",
       "8          1 Samuel  There was a certain man of Ramathaim-zophim of...      2\n",
       "9          2 Samuel  After the death of Saul, when David had return...      2\n",
       "10          1 Kings  Now King David was old and advanced in years. ...      2\n",
       "11          2 Kings  After the death of Ahab, Moab rebelled against...      2\n",
       "12     1 Chronicles  Adam, Seth, Enosh;,Kenan, Mahalalel, Jared;,En...      2\n",
       "13     2 Chronicles  Solomon the son of David established himself i...      2\n",
       "14             Ezra  Now in the first year of Cyrus king of Persia,...      2\n",
       "15         Nehemiah  The words of Nehemiah the son of Hacaliah.Now ...      2\n",
       "16           Esther  Now in the days of Ahasuerus, the Ahasuerus wh...      2\n",
       "17              Job  There was a man in the land of Uz whose name w...      4\n",
       "18           Psalms  Blessed is the man who walks not in the counse...      0\n",
       "19         Proverbs  The proverbs of Solomon, son of David, king of...      4\n",
       "20     Ecclesiastes  The words of the Preacher, the son of David, k...      4\n",
       "21  Song of Solomon  The Song of Songs, which is Solomon's.,Let him...      4\n",
       "22           Isaiah  The vision of Isaiah the son of Amoz, which he...      5\n",
       "23         Jeremiah  The words of Jeremiah, the son of Hilkiah, one...      0\n",
       "24     Lamentations  How lonely sits the city that was full of peop...      0\n",
       "25          Ezekiel  In the thirtieth year, in the fourth month, on...      5\n",
       "26           Daniel  In the third year of the reign of Jehoiakim ki...      5\n",
       "27            Hosea  The word of the LORD that came to Hosea, the s...      5\n",
       "28             Joel  The word of the LORD that came to Joel, the so...      0\n",
       "29             Amos  The words of Amos, who was among the shepherds...      5\n",
       "30          Obadiah  The vision of Obadiah. Thus says the Lord God ...      5\n",
       "31            Jonah  Now the word of the LORD came to Jonah the son...      0\n",
       "32            Micah  The word of the LORD that came to Micah of Mor...      5\n",
       "33            Nahum  An oracle concerning Nineveh. The book of the ...      0\n",
       "34         Habakkuk  The oracle that Habakkuk the prophet saw.,O LO...      0\n",
       "35        Zephaniah  The word of the LORD that came to Zephaniah th...      5\n",
       "36           Haggai  In the second year of Darius the king, in the ...      0\n",
       "37        Zechariah  In the eighth month, in the second year of Dar...      0\n",
       "38          Malachi  The oracle of the word of the LORD to Israel b...      0\n",
       "39          Matthew  The book of the genealogy of Jesus Christ, the...      3\n",
       "40             Mark  The beginning of the gospel of Jesus Christ, t...      3\n",
       "41             Luke  Inasmuch as many have undertaken to compile a ...      3\n",
       "42             John  In the beginning was the Word, and the Word wa...      3\n",
       "43             Acts  In the first book, O Theophilus, I have dealt ...      3\n",
       "44           Romans  Paul, a servant of Christ Jesus, called to be ...      1\n",
       "45    1 Corinthians  Paul, called by the will of God to be an apost...      1\n",
       "46    2 Corinthians  Paul, an apostle of Christ Jesus by the will o...      1\n",
       "47        Galatians  The grace of the Lord Jesus Christ and the lov...      1\n",
       "48        Ephesians  Paul, an apostle of Christ Jesus by the will o...      1\n",
       "49      Philippians  Paul and Timothy, servants of Christ Jesus,To ...      1\n",
       "50       Colossians  Paul, an apostle of Christ Jesus by the will o...      1\n",
       "51   1 Tessalonians  Paul, Silvanus, and Timothy,To the church of t...      1\n",
       "52  2 Thessalonians  Paul, Silvanus, and Timothy,To the church of t...      1\n",
       "53        1 Timothy  Paul, an apostle of Christ Jesus by command of...      1\n",
       "54        2 Timothy  Paul, an apostle of Christ Jesus by the will o...      1\n",
       "55            Titus  Paul, a servant of God and an apostle of Jesus...      1\n",
       "56         Philemon  Paul, a prisoner for Christ Jesus, and Timothy...      1\n",
       "57          Hebrews  Long ago, at many times and in many ways, God ...      1\n",
       "58            James  James, a servant of God and of the Lord Jesus ...      4\n",
       "59          1 Peter  Peter, an apostle of Jesus Christ, To those wh...      1"
      ]
     },
     "execution_count": 51,
     "metadata": {},
     "output_type": "execute_result"
    }
   ],
   "source": [
    "npr.head(60)"
   ]
  },
  {
   "cell_type": "markdown",
   "metadata": {},
   "source": [
    "## Great work!"
   ]
  }
 ],
 "metadata": {
  "kernelspec": {
   "display_name": "Python 3",
   "language": "python",
   "name": "python3"
  },
  "language_info": {
   "codemirror_mode": {
    "name": "ipython",
    "version": 3
   },
   "file_extension": ".py",
   "mimetype": "text/x-python",
   "name": "python",
   "nbconvert_exporter": "python",
   "pygments_lexer": "ipython3",
   "version": "3.8.5"
  }
 },
 "nbformat": 4,
 "nbformat_minor": 2
}
