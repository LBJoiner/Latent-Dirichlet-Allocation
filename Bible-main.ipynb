{
 "cells": [
  {
   "cell_type": "markdown",
   "metadata": {},
   "source": [
    "___\n",
    "\n",
    "<a href='http://www.pieriandata.com'> <img src='../Pierian_Data_Logo.png' /></a>\n",
    "___"
   ]
  },
  {
   "cell_type": "markdown",
   "metadata": {},
   "source": [
    "# Latent Dirichlet Allocation"
   ]
  },
  {
   "cell_type": "markdown",
   "metadata": {},
   "source": [
    "## Data\n",
    "\n",
    "We will be using articles from NPR (National Public Radio), obtained from their website [www.esv.org](http://www.esv.org)"
   ]
  },
  {
   "cell_type": "code",
   "execution_count": 1,
   "metadata": {},
   "outputs": [],
   "source": [
    "import pandas as pd"
   ]
  },
  {
   "cell_type": "code",
   "execution_count": 2,
   "metadata": {},
   "outputs": [],
   "source": [
    "esv = pd.read_csv('Bible.csv')"
   ]
  },
  {
   "cell_type": "code",
   "execution_count": 3,
   "metadata": {},
   "outputs": [
    {
     "data": {
      "text/html": [
       "<div>\n",
       "<style scoped>\n",
       "    .dataframe tbody tr th:only-of-type {\n",
       "        vertical-align: middle;\n",
       "    }\n",
       "\n",
       "    .dataframe tbody tr th {\n",
       "        vertical-align: top;\n",
       "    }\n",
       "\n",
       "    .dataframe thead th {\n",
       "        text-align: right;\n",
       "    }\n",
       "</style>\n",
       "<table border=\"1\" class=\"dataframe\">\n",
       "  <thead>\n",
       "    <tr style=\"text-align: right;\">\n",
       "      <th></th>\n",
       "      <th>Book</th>\n",
       "      <th>Content</th>\n",
       "    </tr>\n",
       "  </thead>\n",
       "  <tbody>\n",
       "    <tr>\n",
       "      <th>0</th>\n",
       "      <td>Genesis</td>\n",
       "      <td>In the beginning, God created the heavens and ...</td>\n",
       "    </tr>\n",
       "    <tr>\n",
       "      <th>1</th>\n",
       "      <td>Exodus</td>\n",
       "      <td>These are the names of the sons of Israel who ...</td>\n",
       "    </tr>\n",
       "    <tr>\n",
       "      <th>2</th>\n",
       "      <td>Leviticus</td>\n",
       "      <td>The LORD called Moses and spoke to him from th...</td>\n",
       "    </tr>\n",
       "    <tr>\n",
       "      <th>3</th>\n",
       "      <td>Numbers</td>\n",
       "      <td>The LORD spoke to Moses in the wilderness of S...</td>\n",
       "    </tr>\n",
       "    <tr>\n",
       "      <th>4</th>\n",
       "      <td>Deuteronomy</td>\n",
       "      <td>These are the words that Moses spoke to all Is...</td>\n",
       "    </tr>\n",
       "  </tbody>\n",
       "</table>\n",
       "</div>"
      ],
      "text/plain": [
       "          Book                                            Content\n",
       "0      Genesis  In the beginning, God created the heavens and ...\n",
       "1       Exodus  These are the names of the sons of Israel who ...\n",
       "2    Leviticus  The LORD called Moses and spoke to him from th...\n",
       "3      Numbers  The LORD spoke to Moses in the wilderness of S...\n",
       "4  Deuteronomy  These are the words that Moses spoke to all Is..."
      ]
     },
     "execution_count": 3,
     "metadata": {},
     "output_type": "execute_result"
    }
   ],
   "source": [
    "esv.head()"
   ]
  },
  {
   "cell_type": "code",
   "execution_count": 4,
   "metadata": {},
   "outputs": [
    {
     "data": {
      "text/html": [
       "<div>\n",
       "<style scoped>\n",
       "    .dataframe tbody tr th:only-of-type {\n",
       "        vertical-align: middle;\n",
       "    }\n",
       "\n",
       "    .dataframe tbody tr th {\n",
       "        vertical-align: top;\n",
       "    }\n",
       "\n",
       "    .dataframe thead th {\n",
       "        text-align: right;\n",
       "    }\n",
       "</style>\n",
       "<table border=\"1\" class=\"dataframe\">\n",
       "  <thead>\n",
       "    <tr style=\"text-align: right;\">\n",
       "      <th></th>\n",
       "      <th>Book</th>\n",
       "      <th>Content</th>\n",
       "    </tr>\n",
       "  </thead>\n",
       "  <tbody>\n",
       "    <tr>\n",
       "      <th>0</th>\n",
       "      <td>Genesis</td>\n",
       "      <td>In the beginning, God created the heavens and ...</td>\n",
       "    </tr>\n",
       "    <tr>\n",
       "      <th>1</th>\n",
       "      <td>Exodus</td>\n",
       "      <td>These are the names of the sons of Israel who ...</td>\n",
       "    </tr>\n",
       "    <tr>\n",
       "      <th>2</th>\n",
       "      <td>Leviticus</td>\n",
       "      <td>The LORD called Moses and spoke to him from th...</td>\n",
       "    </tr>\n",
       "    <tr>\n",
       "      <th>3</th>\n",
       "      <td>Numbers</td>\n",
       "      <td>The LORD spoke to Moses in the wilderness of S...</td>\n",
       "    </tr>\n",
       "    <tr>\n",
       "      <th>4</th>\n",
       "      <td>Deuteronomy</td>\n",
       "      <td>These are the words that Moses spoke to all Is...</td>\n",
       "    </tr>\n",
       "    <tr>\n",
       "      <th>...</th>\n",
       "      <td>...</td>\n",
       "      <td>...</td>\n",
       "    </tr>\n",
       "    <tr>\n",
       "      <th>61</th>\n",
       "      <td>1 John</td>\n",
       "      <td>That which was from the beginning, which we ha...</td>\n",
       "    </tr>\n",
       "    <tr>\n",
       "      <th>62</th>\n",
       "      <td>2 John</td>\n",
       "      <td>The elder to the elect lady and her children, ...</td>\n",
       "    </tr>\n",
       "    <tr>\n",
       "      <th>63</th>\n",
       "      <td>3 John</td>\n",
       "      <td>The elder to the beloved Gaius, whom I love in...</td>\n",
       "    </tr>\n",
       "    <tr>\n",
       "      <th>64</th>\n",
       "      <td>Jude</td>\n",
       "      <td>Jude, a servant of Jesus Christ and brother of...</td>\n",
       "    </tr>\n",
       "    <tr>\n",
       "      <th>65</th>\n",
       "      <td>Revelation</td>\n",
       "      <td>The revelation of Jesus Christ, which God gave...</td>\n",
       "    </tr>\n",
       "  </tbody>\n",
       "</table>\n",
       "<p>66 rows × 2 columns</p>\n",
       "</div>"
      ],
      "text/plain": [
       "           Book                                            Content\n",
       "0       Genesis  In the beginning, God created the heavens and ...\n",
       "1        Exodus  These are the names of the sons of Israel who ...\n",
       "2     Leviticus  The LORD called Moses and spoke to him from th...\n",
       "3       Numbers  The LORD spoke to Moses in the wilderness of S...\n",
       "4   Deuteronomy  These are the words that Moses spoke to all Is...\n",
       "..          ...                                                ...\n",
       "61       1 John  That which was from the beginning, which we ha...\n",
       "62       2 John  The elder to the elect lady and her children, ...\n",
       "63       3 John  The elder to the beloved Gaius, whom I love in...\n",
       "64         Jude  Jude, a servant of Jesus Christ and brother of...\n",
       "65   Revelation  The revelation of Jesus Christ, which God gave...\n",
       "\n",
       "[66 rows x 2 columns]"
      ]
     },
     "execution_count": 4,
     "metadata": {},
     "output_type": "execute_result"
    }
   ],
   "source": [
    "esv"
   ]
  },
  {
   "cell_type": "markdown",
   "metadata": {},
   "source": [
    "Notice how we don't have the topic of the articles! Let's use LDA to attempt to figure out clusters of the articles."
   ]
  },
  {
   "cell_type": "markdown",
   "metadata": {},
   "source": [
    "## Preprocessing"
   ]
  },
  {
   "cell_type": "code",
   "execution_count": 5,
   "metadata": {},
   "outputs": [],
   "source": [
    "from sklearn.feature_extraction.text import CountVectorizer"
   ]
  },
  {
   "cell_type": "markdown",
   "metadata": {},
   "source": [
    "**`max_df`**` : float in range [0.0, 1.0] or int, default=1.0`<br>\n",
    "When building the vocabulary ignore terms that have a document frequency strictly higher than the given threshold (corpus-specific stop words). If float, the parameter represents a proportion of documents, integer absolute counts. This parameter is ignored if vocabulary is not None.\n",
    "\n",
    "**`min_df`**` : float in range [0.0, 1.0] or int, default=1`<br>\n",
    "When building the vocabulary ignore terms that have a document frequency strictly lower than the given threshold. This value is also called cut-off in the literature. If float, the parameter represents a proportion of documents, integer absolute counts. This parameter is ignored if vocabulary is not None."
   ]
  },
  {
   "cell_type": "code",
   "execution_count": 6,
   "metadata": {},
   "outputs": [],
   "source": [
    "cv = CountVectorizer(max_df=0.95, min_df=2, stop_words='english')"
   ]
  },
  {
   "cell_type": "code",
   "execution_count": 7,
   "metadata": {},
   "outputs": [],
   "source": [
    "dtm = cv.fit_transform(esv['Content'])"
   ]
  },
  {
   "cell_type": "code",
   "execution_count": 8,
   "metadata": {},
   "outputs": [
    {
     "data": {
      "text/plain": [
       "<66x7619 sparse matrix of type '<class 'numpy.int64'>'\n",
       "\twith 58977 stored elements in Compressed Sparse Row format>"
      ]
     },
     "execution_count": 8,
     "metadata": {},
     "output_type": "execute_result"
    }
   ],
   "source": [
    "dtm"
   ]
  },
  {
   "cell_type": "markdown",
   "metadata": {},
   "source": [
    "## LDA"
   ]
  },
  {
   "cell_type": "code",
   "execution_count": 9,
   "metadata": {},
   "outputs": [],
   "source": [
    "from sklearn.decomposition import LatentDirichletAllocation"
   ]
  },
  {
   "cell_type": "code",
   "execution_count": 40,
   "metadata": {},
   "outputs": [],
   "source": [
    "LDA = LatentDirichletAllocation(n_components=12)"
   ]
  },
  {
   "cell_type": "code",
   "execution_count": 41,
   "metadata": {},
   "outputs": [
    {
     "data": {
      "text/plain": [
       "LatentDirichletAllocation(n_components=12)"
      ]
     },
     "execution_count": 41,
     "metadata": {},
     "output_type": "execute_result"
    }
   ],
   "source": [
    "# This can take awhile, we're dealing with a large amount of documents!\n",
    "LDA.fit(dtm)"
   ]
  },
  {
   "cell_type": "markdown",
   "metadata": {},
   "source": [
    "## Showing Stored Words"
   ]
  },
  {
   "cell_type": "code",
   "execution_count": 42,
   "metadata": {},
   "outputs": [
    {
     "data": {
      "text/plain": [
       "7619"
      ]
     },
     "execution_count": 42,
     "metadata": {},
     "output_type": "execute_result"
    }
   ],
   "source": [
    "len(cv.get_feature_names())"
   ]
  },
  {
   "cell_type": "code",
   "execution_count": 43,
   "metadata": {},
   "outputs": [],
   "source": [
    "import random"
   ]
  },
  {
   "cell_type": "code",
   "execution_count": 44,
   "metadata": {},
   "outputs": [
    {
     "name": "stdout",
     "output_type": "stream",
     "text": [
      "100\n",
      "100\n",
      "100\n",
      "112\n",
      "110\n",
      "112\n",
      "120\n",
      "110\n",
      "000\n"
     ]
    }
   ],
   "source": [
    "#Dempnstation of random selection of words\n",
    "for i in range(9):\n",
    "    random_word_id = random.randint(0,8)\n",
    "    print(cv.get_feature_names()[random_word_id])"
   ]
  },
  {
   "cell_type": "markdown",
   "metadata": {
    "collapsed": true
   },
   "source": [
    "### Showing Top Words Per Topic"
   ]
  },
  {
   "cell_type": "code",
   "execution_count": 45,
   "metadata": {},
   "outputs": [
    {
     "data": {
      "text/plain": [
       "12"
      ]
     },
     "execution_count": 45,
     "metadata": {},
     "output_type": "execute_result"
    }
   ],
   "source": [
    "len(LDA.components_)"
   ]
  },
  {
   "cell_type": "code",
   "execution_count": 46,
   "metadata": {},
   "outputs": [
    {
     "data": {
      "text/plain": [
       "array([[8.33334993e-02, 8.33333333e-02, 8.33333333e-02, ...,\n",
       "        8.33333333e-02, 8.33333333e-02, 8.33333333e-02],\n",
       "       [1.15454769e+01, 8.33333333e-02, 8.33333333e-02, ...,\n",
       "        8.33337121e-02, 8.33335424e-02, 2.43128718e+00],\n",
       "       [1.41080071e+01, 8.33333333e-02, 8.33333333e-02, ...,\n",
       "        8.33333333e-02, 8.33333333e-02, 8.33333333e-02],\n",
       "       ...,\n",
       "       [1.61701163e+02, 2.08333292e+00, 2.08333292e+00, ...,\n",
       "        1.00833289e+01, 8.33349109e-02, 6.73537732e+00],\n",
       "       [8.33333333e-02, 8.33333333e-02, 8.33333333e-02, ...,\n",
       "        8.33333333e-02, 8.33333333e-02, 8.33333333e-02],\n",
       "       [1.44027626e-01, 8.33336842e-02, 8.33336842e-02, ...,\n",
       "        8.33333691e-02, 8.33336248e-02, 8.33337259e-02]])"
      ]
     },
     "execution_count": 46,
     "metadata": {},
     "output_type": "execute_result"
    }
   ],
   "source": [
    "LDA.components_"
   ]
  },
  {
   "cell_type": "code",
   "execution_count": 47,
   "metadata": {},
   "outputs": [
    {
     "data": {
      "text/plain": [
       "12"
      ]
     },
     "execution_count": 47,
     "metadata": {},
     "output_type": "execute_result"
    }
   ],
   "source": [
    "len(LDA.components_)\n"
   ]
  },
  {
   "cell_type": "code",
   "execution_count": 48,
   "metadata": {},
   "outputs": [
    {
     "data": {
      "text/plain": [
       "numpy.ndarray"
      ]
     },
     "execution_count": 48,
     "metadata": {},
     "output_type": "execute_result"
    }
   ],
   "source": [
    "type(LDA.components_)"
   ]
  },
  {
   "cell_type": "code",
   "execution_count": 49,
   "metadata": {},
   "outputs": [
    {
     "data": {
      "text/plain": [
       "(12, 7619)"
      ]
     },
     "execution_count": 49,
     "metadata": {},
     "output_type": "execute_result"
    }
   ],
   "source": [
    "#7 topics x 610 words\n",
    "LDA.components_.shape"
   ]
  },
  {
   "cell_type": "code",
   "execution_count": 50,
   "metadata": {},
   "outputs": [],
   "source": [
    "single_topic = LDA.components_[0]"
   ]
  },
  {
   "cell_type": "code",
   "execution_count": 51,
   "metadata": {},
   "outputs": [
    {
     "data": {
      "text/plain": [
       "array([3621, 5367, 1237, ..., 2468, 3710, 1259], dtype=int64)"
      ]
     },
     "execution_count": 51,
     "metadata": {},
     "output_type": "execute_result"
    }
   ],
   "source": [
    "# Returns the indices of this sorted array from greatest valeus to least.\n",
    "single_topic.argsort()"
   ]
  },
  {
   "cell_type": "code",
   "execution_count": 52,
   "metadata": {},
   "outputs": [
    {
     "data": {
      "text/plain": [
       "0.0833333333333521"
      ]
     },
     "execution_count": 52,
     "metadata": {},
     "output_type": "execute_result"
    }
   ],
   "source": [
    "#ARGSORT ---> returns INDEX POSITIONS SORTED FROM LEAST --> GREATEST\n",
    "#Looking ror TOP 10 CALUES (10 GREATEST VALUES)\n",
    "#meaning I want the LAST 10 VALUES of ARGSORT()\n",
    "#it is saying GRAB the last 10 values of .argsort() (highest prob words for this topic) \n",
    "# Word most representative of this topic\n",
    "single_topic[-9]"
   ]
  },
  {
   "cell_type": "code",
   "execution_count": 53,
   "metadata": {},
   "outputs": [
    {
     "data": {
      "text/plain": [
       "array([2974, 4110, 6820, 1031, 3863, 6387, 3928, 2468, 3710, 1259],\n",
       "      dtype=int64)"
      ]
     },
     "execution_count": 53,
     "metadata": {},
     "output_type": "execute_result"
    }
   ],
   "source": [
    "# Top 10 words for this topic:\n",
    "single_topic.argsort()[-10:]"
   ]
  },
  {
   "cell_type": "code",
   "execution_count": 54,
   "metadata": {},
   "outputs": [],
   "source": [
    "top_word_indices = single_topic.argsort()[-10:]"
   ]
  },
  {
   "cell_type": "code",
   "execution_count": 55,
   "metadata": {},
   "outputs": [
    {
     "name": "stdout",
     "output_type": "stream",
     "text": [
      "grace\n",
      "love\n",
      "things\n",
      "brothers\n",
      "know\n",
      "spirit\n",
      "law\n",
      "faith\n",
      "jesus\n",
      "christ\n"
     ]
    }
   ],
   "source": [
    "for index in top_word_indices:\n",
    "    print(cv.get_feature_names()[index])"
   ]
  },
  {
   "cell_type": "markdown",
   "metadata": {},
   "source": [
    "These look like business articles perhaps... Let's confirm by using .transform() on our vectorized articles to attach a label number. But first, let's view all the 10 topics found."
   ]
  },
  {
   "cell_type": "code",
   "execution_count": 56,
   "metadata": {},
   "outputs": [
    {
     "name": "stdout",
     "output_type": "stream",
     "text": [
      "THE TOP 12 WORDS FOR TOPIC #0\n",
      "['grace', 'love', 'things', 'brothers', 'know', 'spirit', 'law', 'faith', 'jesus', 'christ']\n",
      "\n",
      "\n",
      "THE TOP 12 WORDS FOR TOPIC #1\n",
      "['aaron', 'day', 'offering', 'land', 'said', 'moses', 'israel', 'people', 'lord', 'shall']\n",
      "\n",
      "\n",
      "THE TOP 12 WORDS FOR TOPIC #2\n",
      "['make', 'know', 'israel', 'behold', 'nations', 'says', 'land', 'declares', 'lord', 'shall']\n",
      "\n",
      "\n",
      "THE TOP 12 WORDS FOR TOPIC #3\n",
      "['grace', 'boast', 'spirit', 'things', 'did', 'glory', 'faith', 'jesus', 'lord', 'christ']\n",
      "\n",
      "\n",
      "THE TOP 12 WORDS FOR TOPIC #4\n",
      "['father', 'son', 'came', 'sons', 'men', 'went', 'saul', 'lord', 'david', 'said']\n",
      "\n",
      "\n",
      "THE TOP 12 WORDS FOR TOPIC #5\n",
      "['heart', 'steadfast', 'shall', 'people', 'forever', 'praise', 'like', 'love', 'let', 'lord']\n",
      "\n",
      "\n",
      "THE TOP 12 WORDS FOR TOPIC #6\n",
      "['deceivers', 'storehouse', 'autumn', 'fare', 'deceiver', 'amittai', 'ink', 'demetrius', 'vomited', 'nonsense']\n",
      "\n",
      "\n",
      "THE TOP 12 WORDS FOR TOPIC #7\n",
      "['people', 'make', 'altar', 'land', 'blood', 'unclean', 'priest', 'offering', 'lord', 'shall']\n",
      "\n",
      "\n",
      "THE TOP 12 WORDS FOR TOPIC #8\n",
      "['let', 'heart', 'behold', 'come', 'king', 'earth', 'man', 'lord', 'like', 'shall']\n",
      "\n",
      "\n",
      "THE TOP 12 WORDS FOR TOPIC #9\n",
      "['came', 'judah', 'sons', 'said', 'people', 'house', 'israel', 'son', 'king', 'lord']\n",
      "\n",
      "\n",
      "THE TOP 12 WORDS FOR TOPIC #10\n",
      "['midst', 'son', 'make', 'earth', 'like', 'seek', 'gather', 'day', 'lord', 'shall']\n",
      "\n",
      "\n",
      "THE TOP 12 WORDS FOR TOPIC #11\n",
      "['saw', 'disciples', 'man', 'son', 'father', 'saying', 'went', 'came', 'jesus', 'said']\n",
      "\n",
      "\n"
     ]
    }
   ],
   "source": [
    "for index,topic in enumerate(LDA.components_):\n",
    "    print(f'THE TOP 12 WORDS FOR TOPIC #{index}')\n",
    "    print([cv.get_feature_names()[i] for i in topic.argsort()[-10:]])\n",
    "    print('\\n')"
   ]
  },
  {
   "cell_type": "markdown",
   "metadata": {},
   "source": [
    "### Attaching Discovered Topic Labels to Original Articles"
   ]
  },
  {
   "cell_type": "code",
   "execution_count": 57,
   "metadata": {},
   "outputs": [
    {
     "data": {
      "text/plain": [
       "<66x7619 sparse matrix of type '<class 'numpy.int64'>'\n",
       "\twith 58977 stored elements in Compressed Sparse Row format>"
      ]
     },
     "execution_count": 57,
     "metadata": {},
     "output_type": "execute_result"
    }
   ],
   "source": [
    "dtm"
   ]
  },
  {
   "cell_type": "code",
   "execution_count": 58,
   "metadata": {},
   "outputs": [
    {
     "data": {
      "text/plain": [
       "(66, 7619)"
      ]
     },
     "execution_count": 58,
     "metadata": {},
     "output_type": "execute_result"
    }
   ],
   "source": [
    "dtm.shape"
   ]
  },
  {
   "cell_type": "code",
   "execution_count": 59,
   "metadata": {},
   "outputs": [
    {
     "data": {
      "text/plain": [
       "66"
      ]
     },
     "execution_count": 59,
     "metadata": {},
     "output_type": "execute_result"
    }
   ],
   "source": [
    "len(esv)"
   ]
  },
  {
   "cell_type": "code",
   "execution_count": 60,
   "metadata": {},
   "outputs": [],
   "source": [
    "topic_results = LDA.transform(dtm)"
   ]
  },
  {
   "cell_type": "code",
   "execution_count": 61,
   "metadata": {},
   "outputs": [
    {
     "data": {
      "text/plain": [
       "(66, 12)"
      ]
     },
     "execution_count": 61,
     "metadata": {},
     "output_type": "execute_result"
    }
   ],
   "source": [
    "topic_results.shape"
   ]
  },
  {
   "cell_type": "code",
   "execution_count": 62,
   "metadata": {},
   "outputs": [
    {
     "data": {
      "text/plain": [
       "array([8.07126209e-06, 8.07141605e-06, 8.07136299e-06, 8.07121639e-06,\n",
       "       9.99911216e-01, 8.07131229e-06, 8.07102503e-06, 8.07135205e-06,\n",
       "       8.07135541e-06, 8.07130801e-06, 8.07112976e-06, 8.07130511e-06])"
      ]
     },
     "execution_count": 62,
     "metadata": {},
     "output_type": "execute_result"
    }
   ],
   "source": [
    "topic_results[0]"
   ]
  },
  {
   "cell_type": "code",
   "execution_count": 63,
   "metadata": {},
   "outputs": [
    {
     "data": {
      "text/plain": [
       "array([0., 0., 0., 0., 1., 0., 0., 0., 0., 0., 0., 0.])"
      ]
     },
     "execution_count": 63,
     "metadata": {},
     "output_type": "execute_result"
    }
   ],
   "source": [
    "topic_results[0].round(2)"
   ]
  },
  {
   "cell_type": "code",
   "execution_count": 65,
   "metadata": {},
   "outputs": [
    {
     "data": {
      "text/plain": [
       "4"
      ]
     },
     "execution_count": 65,
     "metadata": {},
     "output_type": "execute_result"
    }
   ],
   "source": [
    "topic_results[0].argmax()"
   ]
  },
  {
   "cell_type": "markdown",
   "metadata": {},
   "source": [
    "This means that our model thinks that the first article belongs to topic #1."
   ]
  },
  {
   "cell_type": "markdown",
   "metadata": {},
   "source": [
    "### Combining with Original Data"
   ]
  },
  {
   "cell_type": "code",
   "execution_count": 66,
   "metadata": {},
   "outputs": [
    {
     "data": {
      "text/html": [
       "<div>\n",
       "<style scoped>\n",
       "    .dataframe tbody tr th:only-of-type {\n",
       "        vertical-align: middle;\n",
       "    }\n",
       "\n",
       "    .dataframe tbody tr th {\n",
       "        vertical-align: top;\n",
       "    }\n",
       "\n",
       "    .dataframe thead th {\n",
       "        text-align: right;\n",
       "    }\n",
       "</style>\n",
       "<table border=\"1\" class=\"dataframe\">\n",
       "  <thead>\n",
       "    <tr style=\"text-align: right;\">\n",
       "      <th></th>\n",
       "      <th>Book</th>\n",
       "      <th>Content</th>\n",
       "      <th>Topic</th>\n",
       "    </tr>\n",
       "  </thead>\n",
       "  <tbody>\n",
       "    <tr>\n",
       "      <th>0</th>\n",
       "      <td>Genesis</td>\n",
       "      <td>In the beginning, God created the heavens and ...</td>\n",
       "      <td>22</td>\n",
       "    </tr>\n",
       "    <tr>\n",
       "      <th>1</th>\n",
       "      <td>Exodus</td>\n",
       "      <td>These are the names of the sons of Israel who ...</td>\n",
       "      <td>15</td>\n",
       "    </tr>\n",
       "    <tr>\n",
       "      <th>2</th>\n",
       "      <td>Leviticus</td>\n",
       "      <td>The LORD called Moses and spoke to him from th...</td>\n",
       "      <td>0</td>\n",
       "    </tr>\n",
       "    <tr>\n",
       "      <th>3</th>\n",
       "      <td>Numbers</td>\n",
       "      <td>The LORD spoke to Moses in the wilderness of S...</td>\n",
       "      <td>15</td>\n",
       "    </tr>\n",
       "    <tr>\n",
       "      <th>4</th>\n",
       "      <td>Deuteronomy</td>\n",
       "      <td>These are the words that Moses spoke to all Is...</td>\n",
       "      <td>19</td>\n",
       "    </tr>\n",
       "  </tbody>\n",
       "</table>\n",
       "</div>"
      ],
      "text/plain": [
       "          Book                                            Content  Topic\n",
       "0      Genesis  In the beginning, God created the heavens and ...     22\n",
       "1       Exodus  These are the names of the sons of Israel who ...     15\n",
       "2    Leviticus  The LORD called Moses and spoke to him from th...      0\n",
       "3      Numbers  The LORD spoke to Moses in the wilderness of S...     15\n",
       "4  Deuteronomy  These are the words that Moses spoke to all Is...     19"
      ]
     },
     "execution_count": 66,
     "metadata": {},
     "output_type": "execute_result"
    }
   ],
   "source": [
    "esv.head()"
   ]
  },
  {
   "cell_type": "code",
   "execution_count": 67,
   "metadata": {},
   "outputs": [
    {
     "data": {
      "text/plain": [
       "array([ 4,  1,  7,  1,  1,  9,  9,  4,  4,  4,  9,  9,  9,  9,  9,  9,  8,\n",
       "        8,  5,  8,  8,  8,  8,  9,  8,  2,  8,  8,  8,  8,  8, 11,  8,  8,\n",
       "        8, 10,  9,  8,  8, 11, 11, 11, 11, 11,  0,  5,  3,  0,  0,  0,  0,\n",
       "        5,  0,  5,  0,  5,  0,  3,  5,  5,  3,  0,  0,  0,  5,  8],\n",
       "      dtype=int64)"
      ]
     },
     "execution_count": 67,
     "metadata": {},
     "output_type": "execute_result"
    }
   ],
   "source": [
    "topic_results.argmax(axis=1)"
   ]
  },
  {
   "cell_type": "code",
   "execution_count": 68,
   "metadata": {},
   "outputs": [],
   "source": [
    "esv['Topic'] = topic_results.argmax(axis=1)"
   ]
  },
  {
   "cell_type": "code",
   "execution_count": 69,
   "metadata": {},
   "outputs": [
    {
     "data": {
      "text/html": [
       "<div>\n",
       "<style scoped>\n",
       "    .dataframe tbody tr th:only-of-type {\n",
       "        vertical-align: middle;\n",
       "    }\n",
       "\n",
       "    .dataframe tbody tr th {\n",
       "        vertical-align: top;\n",
       "    }\n",
       "\n",
       "    .dataframe thead th {\n",
       "        text-align: right;\n",
       "    }\n",
       "</style>\n",
       "<table border=\"1\" class=\"dataframe\">\n",
       "  <thead>\n",
       "    <tr style=\"text-align: right;\">\n",
       "      <th></th>\n",
       "      <th>Book</th>\n",
       "      <th>Content</th>\n",
       "      <th>Topic</th>\n",
       "    </tr>\n",
       "  </thead>\n",
       "  <tbody>\n",
       "    <tr>\n",
       "      <th>0</th>\n",
       "      <td>Genesis</td>\n",
       "      <td>In the beginning, God created the heavens and ...</td>\n",
       "      <td>4</td>\n",
       "    </tr>\n",
       "    <tr>\n",
       "      <th>1</th>\n",
       "      <td>Exodus</td>\n",
       "      <td>These are the names of the sons of Israel who ...</td>\n",
       "      <td>1</td>\n",
       "    </tr>\n",
       "    <tr>\n",
       "      <th>2</th>\n",
       "      <td>Leviticus</td>\n",
       "      <td>The LORD called Moses and spoke to him from th...</td>\n",
       "      <td>7</td>\n",
       "    </tr>\n",
       "    <tr>\n",
       "      <th>3</th>\n",
       "      <td>Numbers</td>\n",
       "      <td>The LORD spoke to Moses in the wilderness of S...</td>\n",
       "      <td>1</td>\n",
       "    </tr>\n",
       "    <tr>\n",
       "      <th>4</th>\n",
       "      <td>Deuteronomy</td>\n",
       "      <td>These are the words that Moses spoke to all Is...</td>\n",
       "      <td>1</td>\n",
       "    </tr>\n",
       "    <tr>\n",
       "      <th>5</th>\n",
       "      <td>Joshua</td>\n",
       "      <td>After the death of Moses the servant of the LO...</td>\n",
       "      <td>9</td>\n",
       "    </tr>\n",
       "    <tr>\n",
       "      <th>6</th>\n",
       "      <td>Judges</td>\n",
       "      <td>After the death of Joshua, the people of Israe...</td>\n",
       "      <td>9</td>\n",
       "    </tr>\n",
       "    <tr>\n",
       "      <th>7</th>\n",
       "      <td>Ruth</td>\n",
       "      <td>In the days when the judges ruled there was a ...</td>\n",
       "      <td>4</td>\n",
       "    </tr>\n",
       "    <tr>\n",
       "      <th>8</th>\n",
       "      <td>1 Samuel</td>\n",
       "      <td>There was a certain man of Ramathaim-zophim of...</td>\n",
       "      <td>4</td>\n",
       "    </tr>\n",
       "    <tr>\n",
       "      <th>9</th>\n",
       "      <td>2 Samuel</td>\n",
       "      <td>After the death of Saul, when David had return...</td>\n",
       "      <td>4</td>\n",
       "    </tr>\n",
       "    <tr>\n",
       "      <th>10</th>\n",
       "      <td>1 Kings</td>\n",
       "      <td>Now King David was old and advanced in years. ...</td>\n",
       "      <td>9</td>\n",
       "    </tr>\n",
       "    <tr>\n",
       "      <th>11</th>\n",
       "      <td>2 Kings</td>\n",
       "      <td>After the death of Ahab, Moab rebelled against...</td>\n",
       "      <td>9</td>\n",
       "    </tr>\n",
       "    <tr>\n",
       "      <th>12</th>\n",
       "      <td>1 Chronicles</td>\n",
       "      <td>Adam, Seth, Enosh;,Kenan, Mahalalel, Jared;,En...</td>\n",
       "      <td>9</td>\n",
       "    </tr>\n",
       "    <tr>\n",
       "      <th>13</th>\n",
       "      <td>2 Chronicles</td>\n",
       "      <td>Solomon the son of David established himself i...</td>\n",
       "      <td>9</td>\n",
       "    </tr>\n",
       "    <tr>\n",
       "      <th>14</th>\n",
       "      <td>Ezra</td>\n",
       "      <td>Now in the first year of Cyrus king of Persia,...</td>\n",
       "      <td>9</td>\n",
       "    </tr>\n",
       "    <tr>\n",
       "      <th>15</th>\n",
       "      <td>Nehemiah</td>\n",
       "      <td>The words of Nehemiah the son of Hacaliah.Now ...</td>\n",
       "      <td>9</td>\n",
       "    </tr>\n",
       "    <tr>\n",
       "      <th>16</th>\n",
       "      <td>Esther</td>\n",
       "      <td>Now in the days of Ahasuerus, the Ahasuerus wh...</td>\n",
       "      <td>8</td>\n",
       "    </tr>\n",
       "    <tr>\n",
       "      <th>17</th>\n",
       "      <td>Job</td>\n",
       "      <td>There was a man in the land of Uz whose name w...</td>\n",
       "      <td>8</td>\n",
       "    </tr>\n",
       "    <tr>\n",
       "      <th>18</th>\n",
       "      <td>Psalms</td>\n",
       "      <td>Blessed is the man who walks not in the counse...</td>\n",
       "      <td>5</td>\n",
       "    </tr>\n",
       "    <tr>\n",
       "      <th>19</th>\n",
       "      <td>Proverbs</td>\n",
       "      <td>The proverbs of Solomon, son of David, king of...</td>\n",
       "      <td>8</td>\n",
       "    </tr>\n",
       "    <tr>\n",
       "      <th>20</th>\n",
       "      <td>Ecclesiastes</td>\n",
       "      <td>The words of the Preacher, the son of David, k...</td>\n",
       "      <td>8</td>\n",
       "    </tr>\n",
       "    <tr>\n",
       "      <th>21</th>\n",
       "      <td>Song of Solomon</td>\n",
       "      <td>The Song of Songs, which is Solomon's.,Let him...</td>\n",
       "      <td>8</td>\n",
       "    </tr>\n",
       "    <tr>\n",
       "      <th>22</th>\n",
       "      <td>Isaiah</td>\n",
       "      <td>The vision of Isaiah the son of Amoz, which he...</td>\n",
       "      <td>8</td>\n",
       "    </tr>\n",
       "    <tr>\n",
       "      <th>23</th>\n",
       "      <td>Jeremiah</td>\n",
       "      <td>The words of Jeremiah, the son of Hilkiah, one...</td>\n",
       "      <td>9</td>\n",
       "    </tr>\n",
       "    <tr>\n",
       "      <th>24</th>\n",
       "      <td>Lamentations</td>\n",
       "      <td>How lonely sits the city that was full of peop...</td>\n",
       "      <td>8</td>\n",
       "    </tr>\n",
       "    <tr>\n",
       "      <th>25</th>\n",
       "      <td>Ezekiel</td>\n",
       "      <td>In the thirtieth year, in the fourth month, on...</td>\n",
       "      <td>2</td>\n",
       "    </tr>\n",
       "    <tr>\n",
       "      <th>26</th>\n",
       "      <td>Daniel</td>\n",
       "      <td>In the third year of the reign of Jehoiakim ki...</td>\n",
       "      <td>8</td>\n",
       "    </tr>\n",
       "    <tr>\n",
       "      <th>27</th>\n",
       "      <td>Hosea</td>\n",
       "      <td>The word of the LORD that came to Hosea, the s...</td>\n",
       "      <td>8</td>\n",
       "    </tr>\n",
       "    <tr>\n",
       "      <th>28</th>\n",
       "      <td>Joel</td>\n",
       "      <td>The word of the LORD that came to Joel, the so...</td>\n",
       "      <td>8</td>\n",
       "    </tr>\n",
       "    <tr>\n",
       "      <th>29</th>\n",
       "      <td>Amos</td>\n",
       "      <td>The words of Amos, who was among the shepherds...</td>\n",
       "      <td>8</td>\n",
       "    </tr>\n",
       "    <tr>\n",
       "      <th>30</th>\n",
       "      <td>Obadiah</td>\n",
       "      <td>The vision of Obadiah. Thus says the Lord God ...</td>\n",
       "      <td>8</td>\n",
       "    </tr>\n",
       "    <tr>\n",
       "      <th>31</th>\n",
       "      <td>Jonah</td>\n",
       "      <td>Now the word of the LORD came to Jonah the son...</td>\n",
       "      <td>11</td>\n",
       "    </tr>\n",
       "    <tr>\n",
       "      <th>32</th>\n",
       "      <td>Micah</td>\n",
       "      <td>The word of the LORD that came to Micah of Mor...</td>\n",
       "      <td>8</td>\n",
       "    </tr>\n",
       "    <tr>\n",
       "      <th>33</th>\n",
       "      <td>Nahum</td>\n",
       "      <td>An oracle concerning Nineveh. The book of the ...</td>\n",
       "      <td>8</td>\n",
       "    </tr>\n",
       "    <tr>\n",
       "      <th>34</th>\n",
       "      <td>Habakkuk</td>\n",
       "      <td>The oracle that Habakkuk the prophet saw.,O LO...</td>\n",
       "      <td>8</td>\n",
       "    </tr>\n",
       "    <tr>\n",
       "      <th>35</th>\n",
       "      <td>Zephaniah</td>\n",
       "      <td>The word of the LORD that came to Zephaniah th...</td>\n",
       "      <td>10</td>\n",
       "    </tr>\n",
       "    <tr>\n",
       "      <th>36</th>\n",
       "      <td>Haggai</td>\n",
       "      <td>In the second year of Darius the king, in the ...</td>\n",
       "      <td>9</td>\n",
       "    </tr>\n",
       "    <tr>\n",
       "      <th>37</th>\n",
       "      <td>Zechariah</td>\n",
       "      <td>In the eighth month, in the second year of Dar...</td>\n",
       "      <td>8</td>\n",
       "    </tr>\n",
       "    <tr>\n",
       "      <th>38</th>\n",
       "      <td>Malachi</td>\n",
       "      <td>The oracle of the word of the LORD to Israel b...</td>\n",
       "      <td>8</td>\n",
       "    </tr>\n",
       "    <tr>\n",
       "      <th>39</th>\n",
       "      <td>Matthew</td>\n",
       "      <td>The book of the genealogy of Jesus Christ, the...</td>\n",
       "      <td>11</td>\n",
       "    </tr>\n",
       "    <tr>\n",
       "      <th>40</th>\n",
       "      <td>Mark</td>\n",
       "      <td>The beginning of the gospel of Jesus Christ, t...</td>\n",
       "      <td>11</td>\n",
       "    </tr>\n",
       "    <tr>\n",
       "      <th>41</th>\n",
       "      <td>Luke</td>\n",
       "      <td>Inasmuch as many have undertaken to compile a ...</td>\n",
       "      <td>11</td>\n",
       "    </tr>\n",
       "    <tr>\n",
       "      <th>42</th>\n",
       "      <td>John</td>\n",
       "      <td>In the beginning was the Word, and the Word wa...</td>\n",
       "      <td>11</td>\n",
       "    </tr>\n",
       "    <tr>\n",
       "      <th>43</th>\n",
       "      <td>Acts</td>\n",
       "      <td>In the first book, O Theophilus, I have dealt ...</td>\n",
       "      <td>11</td>\n",
       "    </tr>\n",
       "    <tr>\n",
       "      <th>44</th>\n",
       "      <td>Romans</td>\n",
       "      <td>Paul, a servant of Christ Jesus, called to be ...</td>\n",
       "      <td>0</td>\n",
       "    </tr>\n",
       "    <tr>\n",
       "      <th>45</th>\n",
       "      <td>1 Corinthians</td>\n",
       "      <td>Paul, called by the will of God to be an apost...</td>\n",
       "      <td>5</td>\n",
       "    </tr>\n",
       "    <tr>\n",
       "      <th>46</th>\n",
       "      <td>2 Corinthians</td>\n",
       "      <td>Paul, an apostle of Christ Jesus by the will o...</td>\n",
       "      <td>3</td>\n",
       "    </tr>\n",
       "    <tr>\n",
       "      <th>47</th>\n",
       "      <td>Galatians</td>\n",
       "      <td>The grace of the Lord Jesus Christ and the lov...</td>\n",
       "      <td>0</td>\n",
       "    </tr>\n",
       "    <tr>\n",
       "      <th>48</th>\n",
       "      <td>Ephesians</td>\n",
       "      <td>Paul, an apostle of Christ Jesus by the will o...</td>\n",
       "      <td>0</td>\n",
       "    </tr>\n",
       "    <tr>\n",
       "      <th>49</th>\n",
       "      <td>Philippians</td>\n",
       "      <td>Paul and Timothy, servants of Christ Jesus,To ...</td>\n",
       "      <td>0</td>\n",
       "    </tr>\n",
       "    <tr>\n",
       "      <th>50</th>\n",
       "      <td>Colossians</td>\n",
       "      <td>Paul, an apostle of Christ Jesus by the will o...</td>\n",
       "      <td>0</td>\n",
       "    </tr>\n",
       "    <tr>\n",
       "      <th>51</th>\n",
       "      <td>1 Tessalonians</td>\n",
       "      <td>Paul, Silvanus, and Timothy,To the church of t...</td>\n",
       "      <td>5</td>\n",
       "    </tr>\n",
       "    <tr>\n",
       "      <th>52</th>\n",
       "      <td>2 Thessalonians</td>\n",
       "      <td>Paul, Silvanus, and Timothy,To the church of t...</td>\n",
       "      <td>0</td>\n",
       "    </tr>\n",
       "    <tr>\n",
       "      <th>53</th>\n",
       "      <td>1 Timothy</td>\n",
       "      <td>Paul, an apostle of Christ Jesus by command of...</td>\n",
       "      <td>5</td>\n",
       "    </tr>\n",
       "    <tr>\n",
       "      <th>54</th>\n",
       "      <td>2 Timothy</td>\n",
       "      <td>Paul, an apostle of Christ Jesus by the will o...</td>\n",
       "      <td>0</td>\n",
       "    </tr>\n",
       "    <tr>\n",
       "      <th>55</th>\n",
       "      <td>Titus</td>\n",
       "      <td>Paul, a servant of God and an apostle of Jesus...</td>\n",
       "      <td>5</td>\n",
       "    </tr>\n",
       "    <tr>\n",
       "      <th>56</th>\n",
       "      <td>Philemon</td>\n",
       "      <td>Paul, a prisoner for Christ Jesus, and Timothy...</td>\n",
       "      <td>0</td>\n",
       "    </tr>\n",
       "    <tr>\n",
       "      <th>57</th>\n",
       "      <td>Hebrews</td>\n",
       "      <td>Long ago, at many times and in many ways, God ...</td>\n",
       "      <td>3</td>\n",
       "    </tr>\n",
       "    <tr>\n",
       "      <th>58</th>\n",
       "      <td>James</td>\n",
       "      <td>James, a servant of God and of the Lord Jesus ...</td>\n",
       "      <td>5</td>\n",
       "    </tr>\n",
       "    <tr>\n",
       "      <th>59</th>\n",
       "      <td>1 Peter</td>\n",
       "      <td>Peter, an apostle of Jesus Christ, To those wh...</td>\n",
       "      <td>5</td>\n",
       "    </tr>\n",
       "  </tbody>\n",
       "</table>\n",
       "</div>"
      ],
      "text/plain": [
       "               Book                                            Content  Topic\n",
       "0           Genesis  In the beginning, God created the heavens and ...      4\n",
       "1            Exodus  These are the names of the sons of Israel who ...      1\n",
       "2         Leviticus  The LORD called Moses and spoke to him from th...      7\n",
       "3           Numbers  The LORD spoke to Moses in the wilderness of S...      1\n",
       "4       Deuteronomy  These are the words that Moses spoke to all Is...      1\n",
       "5            Joshua  After the death of Moses the servant of the LO...      9\n",
       "6            Judges  After the death of Joshua, the people of Israe...      9\n",
       "7              Ruth  In the days when the judges ruled there was a ...      4\n",
       "8          1 Samuel  There was a certain man of Ramathaim-zophim of...      4\n",
       "9          2 Samuel  After the death of Saul, when David had return...      4\n",
       "10          1 Kings  Now King David was old and advanced in years. ...      9\n",
       "11          2 Kings  After the death of Ahab, Moab rebelled against...      9\n",
       "12     1 Chronicles  Adam, Seth, Enosh;,Kenan, Mahalalel, Jared;,En...      9\n",
       "13     2 Chronicles  Solomon the son of David established himself i...      9\n",
       "14             Ezra  Now in the first year of Cyrus king of Persia,...      9\n",
       "15         Nehemiah  The words of Nehemiah the son of Hacaliah.Now ...      9\n",
       "16           Esther  Now in the days of Ahasuerus, the Ahasuerus wh...      8\n",
       "17              Job  There was a man in the land of Uz whose name w...      8\n",
       "18           Psalms  Blessed is the man who walks not in the counse...      5\n",
       "19         Proverbs  The proverbs of Solomon, son of David, king of...      8\n",
       "20     Ecclesiastes  The words of the Preacher, the son of David, k...      8\n",
       "21  Song of Solomon  The Song of Songs, which is Solomon's.,Let him...      8\n",
       "22           Isaiah  The vision of Isaiah the son of Amoz, which he...      8\n",
       "23         Jeremiah  The words of Jeremiah, the son of Hilkiah, one...      9\n",
       "24     Lamentations  How lonely sits the city that was full of peop...      8\n",
       "25          Ezekiel  In the thirtieth year, in the fourth month, on...      2\n",
       "26           Daniel  In the third year of the reign of Jehoiakim ki...      8\n",
       "27            Hosea  The word of the LORD that came to Hosea, the s...      8\n",
       "28             Joel  The word of the LORD that came to Joel, the so...      8\n",
       "29             Amos  The words of Amos, who was among the shepherds...      8\n",
       "30          Obadiah  The vision of Obadiah. Thus says the Lord God ...      8\n",
       "31            Jonah  Now the word of the LORD came to Jonah the son...     11\n",
       "32            Micah  The word of the LORD that came to Micah of Mor...      8\n",
       "33            Nahum  An oracle concerning Nineveh. The book of the ...      8\n",
       "34         Habakkuk  The oracle that Habakkuk the prophet saw.,O LO...      8\n",
       "35        Zephaniah  The word of the LORD that came to Zephaniah th...     10\n",
       "36           Haggai  In the second year of Darius the king, in the ...      9\n",
       "37        Zechariah  In the eighth month, in the second year of Dar...      8\n",
       "38          Malachi  The oracle of the word of the LORD to Israel b...      8\n",
       "39          Matthew  The book of the genealogy of Jesus Christ, the...     11\n",
       "40             Mark  The beginning of the gospel of Jesus Christ, t...     11\n",
       "41             Luke  Inasmuch as many have undertaken to compile a ...     11\n",
       "42             John  In the beginning was the Word, and the Word wa...     11\n",
       "43             Acts  In the first book, O Theophilus, I have dealt ...     11\n",
       "44           Romans  Paul, a servant of Christ Jesus, called to be ...      0\n",
       "45    1 Corinthians  Paul, called by the will of God to be an apost...      5\n",
       "46    2 Corinthians  Paul, an apostle of Christ Jesus by the will o...      3\n",
       "47        Galatians  The grace of the Lord Jesus Christ and the lov...      0\n",
       "48        Ephesians  Paul, an apostle of Christ Jesus by the will o...      0\n",
       "49      Philippians  Paul and Timothy, servants of Christ Jesus,To ...      0\n",
       "50       Colossians  Paul, an apostle of Christ Jesus by the will o...      0\n",
       "51   1 Tessalonians  Paul, Silvanus, and Timothy,To the church of t...      5\n",
       "52  2 Thessalonians  Paul, Silvanus, and Timothy,To the church of t...      0\n",
       "53        1 Timothy  Paul, an apostle of Christ Jesus by command of...      5\n",
       "54        2 Timothy  Paul, an apostle of Christ Jesus by the will o...      0\n",
       "55            Titus  Paul, a servant of God and an apostle of Jesus...      5\n",
       "56         Philemon  Paul, a prisoner for Christ Jesus, and Timothy...      0\n",
       "57          Hebrews  Long ago, at many times and in many ways, God ...      3\n",
       "58            James  James, a servant of God and of the Lord Jesus ...      5\n",
       "59          1 Peter  Peter, an apostle of Jesus Christ, To those wh...      5"
      ]
     },
     "execution_count": 69,
     "metadata": {},
     "output_type": "execute_result"
    }
   ],
   "source": [
    "esv.head(60)"
   ]
  },
  {
   "cell_type": "markdown",
   "metadata": {},
   "source": [
    "## Great work!"
   ]
  },
  {
   "cell_type": "code",
   "execution_count": 70,
   "metadata": {},
   "outputs": [
    {
     "ename": "ModuleNotFoundError",
     "evalue": "No module named 'watermark'",
     "output_type": "error",
     "traceback": [
      "\u001b[1;31m---------------------------------------------------------------------------\u001b[0m",
      "\u001b[1;31mModuleNotFoundError\u001b[0m                       Traceback (most recent call last)",
      "\u001b[1;32m<ipython-input-70-471dbd87a6b8>\u001b[0m in \u001b[0;36m<module>\u001b[1;34m\u001b[0m\n\u001b[1;32m----> 1\u001b[1;33m \u001b[1;32mimport\u001b[0m \u001b[0mwatermark\u001b[0m\u001b[1;33m\u001b[0m\u001b[1;33m\u001b[0m\u001b[0m\n\u001b[0m\u001b[0;32m      2\u001b[0m \u001b[0mget_ipython\u001b[0m\u001b[1;33m(\u001b[0m\u001b[1;33m)\u001b[0m\u001b[1;33m.\u001b[0m\u001b[0mrun_line_magic\u001b[0m\u001b[1;33m(\u001b[0m\u001b[1;34m'load_ext'\u001b[0m\u001b[1;33m,\u001b[0m \u001b[1;34m'watermark'\u001b[0m\u001b[1;33m)\u001b[0m\u001b[1;33m\u001b[0m\u001b[1;33m\u001b[0m\u001b[0m\n\u001b[0;32m      3\u001b[0m \u001b[1;33m\u001b[0m\u001b[0m\n\u001b[0;32m      4\u001b[0m \u001b[1;31m# python, ipython, packages, and machine characteristics\u001b[0m\u001b[1;33m\u001b[0m\u001b[1;33m\u001b[0m\u001b[1;33m\u001b[0m\u001b[0m\n\u001b[0;32m      5\u001b[0m \u001b[0mget_ipython\u001b[0m\u001b[1;33m(\u001b[0m\u001b[1;33m)\u001b[0m\u001b[1;33m.\u001b[0m\u001b[0mrun_line_magic\u001b[0m\u001b[1;33m(\u001b[0m\u001b[1;34m'watermark'\u001b[0m\u001b[1;33m,\u001b[0m \u001b[1;34m'-v -m -p pandas,numpy,sklearn,watermark'\u001b[0m\u001b[1;33m)\u001b[0m\u001b[1;33m\u001b[0m\u001b[1;33m\u001b[0m\u001b[0m\n",
      "\u001b[1;31mModuleNotFoundError\u001b[0m: No module named 'watermark'"
     ]
    }
   ],
   "source": [
    "import watermark\n",
    "%load_ext watermark\n",
    "\n",
    "# python, ipython, packages, and machine characteristics\n",
    "%watermark -v -m -p pandas,numpy,sklearn,watermark \n",
    "\n",
    "#%watermark -d -n -t -i -z -u -v -h -m -g -w\n",
    "\n",
    "\n",
    "# date\n",
    "print (\" \")\n",
    "%watermark -u -n -t -z"
   ]
  },
  {
   "cell_type": "code",
   "execution_count": null,
   "metadata": {},
   "outputs": [],
   "source": []
  }
 ],
 "metadata": {
  "kernelspec": {
   "display_name": "Python 3",
   "language": "python",
   "name": "python3"
  },
  "language_info": {
   "codemirror_mode": {
    "name": "ipython",
    "version": 3
   },
   "file_extension": ".py",
   "mimetype": "text/x-python",
   "name": "python",
   "nbconvert_exporter": "python",
   "pygments_lexer": "ipython3",
   "version": "3.8.5"
  }
 },
 "nbformat": 4,
 "nbformat_minor": 2
}
